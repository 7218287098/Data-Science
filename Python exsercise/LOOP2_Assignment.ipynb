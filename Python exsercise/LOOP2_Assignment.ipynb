{
 "cells": [
  {
   "cell_type": "markdown",
   "id": "f6c47653",
   "metadata": {},
   "source": [
    "# Assignment_LOOP2"
   ]
  },
  {
   "cell_type": "markdown",
   "id": "64e7cec8",
   "metadata": {},
   "source": [
    "## Abhilash Gajbhiye ( contact to : abhi.gajbhiye94055@gmail.com or 7218287098 )¶¶"
   ]
  },
  {
   "cell_type": "markdown",
   "id": "d7c6592e",
   "metadata": {},
   "source": [
    "### Batch - LB_DSC_23rd December_WKDY_EN_2022¶"
   ]
  },
  {
   "cell_type": "code",
   "execution_count": null,
   "id": "8418f5e6",
   "metadata": {},
   "outputs": [],
   "source": [
    "# 1. Write a Python program to find those numbers which are divisible by 7 and\n",
    "# multiple of 5, between 1500 and 2700 (both included)."
   ]
  },
  {
   "cell_type": "code",
   "execution_count": 6,
   "id": "816f96e7",
   "metadata": {},
   "outputs": [
    {
     "name": "stdout",
     "output_type": "stream",
     "text": [
      "1505\n",
      "1540\n",
      "1575\n",
      "1610\n",
      "1645\n",
      "1680\n",
      "1715\n",
      "1750\n",
      "1785\n",
      "1820\n",
      "1855\n",
      "1890\n",
      "1925\n",
      "1960\n",
      "1995\n",
      "2030\n",
      "2065\n",
      "2100\n",
      "2135\n",
      "2170\n",
      "2205\n",
      "2240\n",
      "2275\n",
      "2310\n",
      "2345\n",
      "2380\n",
      "2415\n",
      "2450\n",
      "2485\n",
      "2520\n",
      "2555\n",
      "2590\n",
      "2625\n",
      "2660\n",
      "2695\n"
     ]
    }
   ],
   "source": [
    "for i in range(1500,2701):\n",
    "    if i%5 ==0 and i%7==0:\n",
    "        print(i)\n",
    "\n",
    "    "
   ]
  },
  {
   "cell_type": "code",
   "execution_count": null,
   "id": "dd40287f",
   "metadata": {},
   "outputs": [],
   "source": [
    "# 2. Write a Python program to convert temperatures to and from celsius, fahrenheit."
   ]
  },
  {
   "cell_type": "code",
   "execution_count": 8,
   "id": "b914155c",
   "metadata": {},
   "outputs": [
    {
     "name": "stdout",
     "output_type": "stream",
     "text": [
      "53.6\n"
     ]
    }
   ],
   "source": [
    "tem_c = 12\n",
    "tem_f = (tem_c *(9/5)) +32\n",
    "print(tem_f)"
   ]
  },
  {
   "cell_type": "code",
   "execution_count": 11,
   "id": "4730fad8",
   "metadata": {},
   "outputs": [
    {
     "name": "stdout",
     "output_type": "stream",
     "text": [
      "12.000000000000002\n"
     ]
    }
   ],
   "source": [
    "tem_f = 53.6\n",
    "tem_c =( tem_f - 32) *(5/9) \n",
    "print(tem_c)"
   ]
  },
  {
   "cell_type": "code",
   "execution_count": null,
   "id": "446693d8",
   "metadata": {},
   "outputs": [],
   "source": [
    "# 3. Write a Python program to guess a number between 1 to 9.\n"
   ]
  },
  {
   "cell_type": "code",
   "execution_count": 12,
   "id": "d0b78ddf",
   "metadata": {},
   "outputs": [
    {
     "name": "stdout",
     "output_type": "stream",
     "text": [
      "enter a number4\n",
      "Guess a number between 1 to 10 5\n",
      "Guess a number between 1 to 10 8\n",
      "Guess a number between 1 to 10 4\n",
      "Well guessed!\n"
     ]
    }
   ],
   "source": [
    "import random\n",
    "\n",
    "a=int(input(\"enter a number\")) \n",
    "\n",
    "b= random.randint(1, 10)\n",
    "\n",
    "while a!= b:\n",
    "\n",
    "    b= int(input('Guess a number between 1 to 10 '))\n",
    "\n",
    "print('Well guessed!')"
   ]
  },
  {
   "cell_type": "code",
   "execution_count": null,
   "id": "65e70c2a",
   "metadata": {},
   "outputs": [],
   "source": [
    "# 4. Write a Python program to construct the following pattern, using a nested for loop."
   ]
  },
  {
   "cell_type": "code",
   "execution_count": null,
   "id": "e27a9d75",
   "metadata": {},
   "outputs": [],
   "source": [
    "#patern not mention"
   ]
  },
  {
   "cell_type": "code",
   "execution_count": null,
   "id": "175159a2",
   "metadata": {},
   "outputs": [],
   "source": [
    "# 5. Write a Python program that accepts a word from the user and reverse it.\n"
   ]
  },
  {
   "cell_type": "code",
   "execution_count": 16,
   "id": "cb408deb",
   "metadata": {},
   "outputs": [
    {
     "name": "stdout",
     "output_type": "stream",
     "text": [
      "enter the word : Abhilash\n",
      "hsalihbA\n"
     ]
    }
   ],
   "source": [
    "st = input(\"enter the word : \")\n",
    "print(st[::-1])"
   ]
  },
  {
   "cell_type": "code",
   "execution_count": null,
   "id": "2daefa0d",
   "metadata": {},
   "outputs": [],
   "source": [
    "# 6. Write a Python program to count the number of even and odd numbers from a\n",
    "# series of numbers.\n",
    "# Example:\n",
    "# Sample numbers : numbers = (1, 2, 3, 4, 5, 6, 7, 8, 9)\n",
    "# Expected Output :\n",
    "# Number of even numbers : 4\n",
    "# Number of odd numbers : 5\n",
    "\n"
   ]
  },
  {
   "cell_type": "code",
   "execution_count": 29,
   "id": "05f6899a",
   "metadata": {},
   "outputs": [
    {
     "name": "stdout",
     "output_type": "stream",
     "text": [
      "number of even  numbers are:  4\n",
      "number of odd number are:  5\n"
     ]
    }
   ],
   "source": [
    "numbers = (1, 2, 3, 4, 5, 6, 7, 8, 9)\n",
    "a==0\n",
    "for i in numbers:\n",
    "    if i %2 ==0:\n",
    "        a+1\n",
    "print(\"number of even  numbers are: \",  a)\n",
    "print(\"number of odd number are: \", len(numbers)- a)"
   ]
  },
  {
   "cell_type": "code",
   "execution_count": null,
   "id": "ea2b3c11",
   "metadata": {},
   "outputs": [],
   "source": [
    "# 7. Write a Python program that prints each item and its corresponding type from the\n",
    "# following list.\n",
    "#  Example:\n",
    "# Sample List : datalist = [1452, 11.23, 1+2j, True, 'w3resource', (0, -\n",
    "# 1), [5, 12], {\"class\":'V', \"section\":'A'}]"
   ]
  },
  {
   "cell_type": "code",
   "execution_count": 30,
   "id": "9d04c9dd",
   "metadata": {},
   "outputs": [
    {
     "name": "stdout",
     "output_type": "stream",
     "text": [
      "1452 <class 'int'>\n",
      "11.23 <class 'float'>\n",
      "(1+2j) <class 'complex'>\n",
      "True <class 'bool'>\n",
      "w3resource <class 'str'>\n",
      "(0, -1) <class 'tuple'>\n",
      "[5, 12] <class 'list'>\n",
      "{'class': 'V', 'section': 'A'} <class 'dict'>\n"
     ]
    }
   ],
   "source": [
    "datalist = [1452, 11.23, 1+2j, True, 'w3resource', (0, -\n",
    "1), [5, 12], {\"class\":'V', \"section\":'A'}]\n",
    "for i in datalist:\n",
    "    print(i,type(i))"
   ]
  },
  {
   "cell_type": "code",
   "execution_count": null,
   "id": "7a32c2ce",
   "metadata": {},
   "outputs": [],
   "source": [
    "# 8. Write a Python program that prints all the numbers from 0 to 6 except 3 and 6.\n"
   ]
  },
  {
   "cell_type": "code",
   "execution_count": 36,
   "id": "a5cf7c59",
   "metadata": {},
   "outputs": [
    {
     "name": "stdout",
     "output_type": "stream",
     "text": [
      "0\n",
      "1\n",
      "2\n",
      "4\n",
      "5\n"
     ]
    }
   ],
   "source": [
    "for i in range(0,7):\n",
    "    if i !=3 and i!=6:\n",
    "        print(i)"
   ]
  },
  {
   "cell_type": "code",
   "execution_count": null,
   "id": "cdc093f3",
   "metadata": {},
   "outputs": [],
   "source": [
    "# 9. Write a Python program to get the Fibonacci series between 0 to 50.\n",
    "#  Example:\n",
    "#  Input 0, 1, 1, 2, 3, 5, 8, 13, 21, ....\n",
    "#  Every next number is found by adding up the two numbers before it.\n",
    "#  Expected Output : 1 1 2 3 5 8 13 21 34"
   ]
  },
  {
   "cell_type": "code",
   "execution_count": 41,
   "id": "b7775759",
   "metadata": {},
   "outputs": [
    {
     "name": "stdout",
     "output_type": "stream",
     "text": [
      "1\n",
      "1\n",
      "2\n",
      "3\n",
      "5\n",
      "8\n",
      "13\n",
      "21\n",
      "34\n"
     ]
    }
   ],
   "source": [
    "x,y=0,1\n",
    "while y < 50:\n",
    "    print(y)\n",
    "    x,y= y, x+y"
   ]
  },
  {
   "cell_type": "code",
   "execution_count": null,
   "id": "92a8f8ac",
   "metadata": {},
   "outputs": [],
   "source": [
    "# 10. Write a Python program which iterates the integers from 1 to 50. For multiples of three\n",
    "# print \"Fizz\" instead of the number and for the multiples of five print \"Buzz\". For numbers\n",
    "# which are multiples of both three and five print \"FizzBuzz\"."
   ]
  },
  {
   "cell_type": "code",
   "execution_count": 46,
   "id": "b213016c",
   "metadata": {},
   "outputs": [
    {
     "name": "stdout",
     "output_type": "stream",
     "text": [
      "Fizz\n",
      "Buzz\n",
      "Fizz\n",
      "Fizz\n",
      "Buzz\n",
      "Fizz\n",
      "Fizz\n",
      "Buzz\n",
      "FzzBuzz\n",
      "Fizz\n",
      "Buzz\n",
      "Fizz\n",
      "Fizz\n",
      "Buzz\n",
      "Fizz\n",
      "Fizz\n",
      "Buzz\n",
      "FzzBuzz\n",
      "Fizz\n",
      "Buzz\n",
      "Fizz\n",
      "Fizz\n",
      "Buzz\n",
      "Fizz\n",
      "Fizz\n",
      "Buzz\n",
      "FzzBuzz\n",
      "Fizz\n",
      "Buzz\n"
     ]
    }
   ],
   "source": [
    "for i in range(1,51):\n",
    "    if  i%3 ==0:\n",
    "        print('Fizz')\n",
    "    if i%5 ==0:\n",
    "        print('Buzz')\n",
    "    if i%3==0 and i%5==0:\n",
    "        print('FzzBuzz')"
   ]
  },
  {
   "cell_type": "markdown",
   "id": "66e52596",
   "metadata": {},
   "source": [
    "# THANK YOU"
   ]
  },
  {
   "cell_type": "code",
   "execution_count": null,
   "id": "1f173e52",
   "metadata": {},
   "outputs": [],
   "source": []
  },
  {
   "cell_type": "code",
   "execution_count": null,
   "id": "a8ebdf5e",
   "metadata": {},
   "outputs": [],
   "source": []
  },
  {
   "cell_type": "code",
   "execution_count": null,
   "id": "0e5e914f",
   "metadata": {
    "collapsed": true
   },
   "outputs": [],
   "source": []
  }
 ],
 "metadata": {
  "kernelspec": {
   "display_name": "Python 3 (ipykernel)",
   "language": "python",
   "name": "python3"
  },
  "language_info": {
   "codemirror_mode": {
    "name": "ipython",
    "version": 3
   },
   "file_extension": ".py",
   "mimetype": "text/x-python",
   "name": "python",
   "nbconvert_exporter": "python",
   "pygments_lexer": "ipython3",
   "version": "3.9.13"
  }
 },
 "nbformat": 4,
 "nbformat_minor": 5
}
