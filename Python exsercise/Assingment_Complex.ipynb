{
 "cells": [
  {
   "cell_type": "markdown",
   "id": "c3ba403b",
   "metadata": {},
   "source": [
    "# Assignment:- Complex"
   ]
  },
  {
   "cell_type": "markdown",
   "id": "0160bedc",
   "metadata": {},
   "source": [
    "## Performered by : Abhilash Gajbhiye ( contact to : abhi.gajbhiye94055@gmail.com or 7218287098 )\n",
    "Batch - LB_DSC_23rd December_WKDY_EN_2022¶"
   ]
  },
  {
   "cell_type": "code",
   "execution_count": null,
   "id": "5610aebd",
   "metadata": {},
   "outputs": [],
   "source": []
  },
  {
   "cell_type": "code",
   "execution_count": 5,
   "id": "0311070d",
   "metadata": {},
   "outputs": [
    {
     "name": "stdout",
     "output_type": "stream",
     "text": [
      "(4+2j) <class 'complex'>\n"
     ]
    }
   ],
   "source": [
    "# Q. Declare a complex number and store it in a variable.\n",
    "# Check the type and print the id of the same.\n",
    "\n",
    "a = 4+ 2j\n",
    "print(a,type(a))"
   ]
  },
  {
   "cell_type": "code",
   "execution_count": null,
   "id": "20564963",
   "metadata": {},
   "outputs": [],
   "source": []
  },
  {
   "cell_type": "code",
   "execution_count": 6,
   "id": "f0068b41",
   "metadata": {},
   "outputs": [
    {
     "name": "stdout",
     "output_type": "stream",
     "text": [
      "(6+8j)\n",
      "(-2+0j)\n",
      "(-8+24j)\n",
      "(0.75+0.25j)\n"
     ]
    }
   ],
   "source": [
    "# Q. Arithmetic Operations on complex number\n",
    "# Take two different complex numbers.\n",
    "# Store them in two different variables.\n",
    "# Do below operations on them:-\n",
    "#  Find sum of both numbers\n",
    "#  Find difference between them\n",
    "#  Find the product of both numbers.\n",
    "#  Find value after dividing first num with second number\n",
    "    \n",
    "a= 2+4j\n",
    "b= 4+ 4j\n",
    "print (a+b)\n",
    "print (a-b)\n",
    "print (a*b)\n",
    "print (a/b)"
   ]
  },
  {
   "cell_type": "markdown",
   "id": "b8a2e716",
   "metadata": {},
   "source": [
    "###  Comparison Operation not applicable between instance of complex values."
   ]
  },
  {
   "cell_type": "markdown",
   "id": "fc8fa99d",
   "metadata": {},
   "source": [
    "### Object reusability concept is not applicable on complex number"
   ]
  },
  {
   "cell_type": "code",
   "execution_count": null,
   "id": "15dd63d8",
   "metadata": {},
   "outputs": [],
   "source": []
  },
  {
   "cell_type": "markdown",
   "id": "a8529957",
   "metadata": {},
   "source": [
    "## Equality Operator:-"
   ]
  },
  {
   "cell_type": "code",
   "execution_count": 8,
   "id": "2ffe3def",
   "metadata": {},
   "outputs": [
    {
     "name": "stdout",
     "output_type": "stream",
     "text": [
      "False\n",
      "True\n"
     ]
    }
   ],
   "source": [
    "# Q.\n",
    "# Take two different complex numbers.\n",
    "# Store them in two different variables.\n",
    "# Equate them using equality operators (==, !=)\n",
    "# Observe the output(return type should be boolean)\n",
    "\n",
    "a= 5+5j\n",
    "b= 4+ 4j\n",
    "print(a==b)\n",
    "print(a!=b)"
   ]
  },
  {
   "cell_type": "code",
   "execution_count": null,
   "id": "5bdcb4bc",
   "metadata": {},
   "outputs": [],
   "source": []
  },
  {
   "cell_type": "markdown",
   "id": "65d0c1ea",
   "metadata": {},
   "source": [
    "## Logical operators"
   ]
  },
  {
   "cell_type": "code",
   "execution_count": null,
   "id": "15e88916",
   "metadata": {},
   "outputs": [],
   "source": [
    "Q. \n",
    "Observe the output of below code\n",
    "Cross check the output manually"
   ]
  },
  {
   "cell_type": "code",
   "execution_count": null,
   "id": "e8d41dd9",
   "metadata": {},
   "outputs": [],
   "source": []
  },
  {
   "cell_type": "code",
   "execution_count": 9,
   "id": "f9950864",
   "metadata": {},
   "outputs": [
    {
     "name": "stdout",
     "output_type": "stream",
     "text": [
      "(20+30j)\n"
     ]
    }
   ],
   "source": [
    "print(10+20j and 20+30j) #----------------------------------------->Output is 20+30j"
   ]
  },
  {
   "cell_type": "code",
   "execution_count": 10,
   "id": "84f58639",
   "metadata": {},
   "outputs": [
    {
     "name": "stdout",
     "output_type": "stream",
     "text": [
      "0j\n"
     ]
    }
   ],
   "source": [
    "print(0+0j and 20+30j) #0+0j\n",
    "#----------------------------------------->Output is 0j"
   ]
  },
  {
   "cell_type": "code",
   "execution_count": 11,
   "id": "591887ca",
   "metadata": {},
   "outputs": [
    {
     "name": "stdout",
     "output_type": "stream",
     "text": [
      "0j\n"
     ]
    }
   ],
   "source": [
    "print(20+30j and 0+0j) #0+0j\n",
    "#----------------------------------------->Output is 0j"
   ]
  },
  {
   "cell_type": "code",
   "execution_count": 12,
   "id": "31fe737e",
   "metadata": {},
   "outputs": [
    {
     "name": "stdout",
     "output_type": "stream",
     "text": [
      "0j\n"
     ]
    }
   ],
   "source": [
    "print(0+0j and 0+0j) #0+0j\n",
    "#----------------------------------------->Output is 0j"
   ]
  },
  {
   "cell_type": "code",
   "execution_count": 13,
   "id": "7821a128",
   "metadata": {},
   "outputs": [
    {
     "name": "stdout",
     "output_type": "stream",
     "text": [
      "(10+20j)\n"
     ]
    }
   ],
   "source": [
    "print(10+20j or 20+30j) #10+20j\n",
    "#----------------------------------------->Output is 10+20j"
   ]
  },
  {
   "cell_type": "code",
   "execution_count": 14,
   "id": "65fb3457",
   "metadata": {},
   "outputs": [
    {
     "name": "stdout",
     "output_type": "stream",
     "text": [
      "(20+30j)\n"
     ]
    }
   ],
   "source": [
    "print(0+0j or 20+30j) #20+30j\n",
    "#----------------------------------------->Output is 20+30j"
   ]
  },
  {
   "cell_type": "code",
   "execution_count": 15,
   "id": "69c18db0",
   "metadata": {},
   "outputs": [
    {
     "name": "stdout",
     "output_type": "stream",
     "text": [
      "(20+30j)\n"
     ]
    }
   ],
   "source": [
    "print(20+30j or 0+0j) #20+30j\n",
    "#----------------------------------------->Output is 20+30j"
   ]
  },
  {
   "cell_type": "code",
   "execution_count": 16,
   "id": "fc7894bf",
   "metadata": {},
   "outputs": [
    {
     "name": "stdout",
     "output_type": "stream",
     "text": [
      "0j\n"
     ]
    }
   ],
   "source": [
    "print(0+0j or 0+0j) #0+0j\n",
    "#----------------------------------------->Output is 0j"
   ]
  },
  {
   "cell_type": "code",
   "execution_count": 17,
   "id": "29c1367a",
   "metadata": {},
   "outputs": [
    {
     "name": "stdout",
     "output_type": "stream",
     "text": [
      "False\n"
     ]
    }
   ],
   "source": [
    "print(not 10+20j) #False\n",
    "#----------------------------------------->Output is False"
   ]
  },
  {
   "cell_type": "code",
   "execution_count": 18,
   "id": "b1159c04",
   "metadata": {},
   "outputs": [
    {
     "name": "stdout",
     "output_type": "stream",
     "text": [
      "True\n"
     ]
    }
   ],
   "source": [
    "print(not 0+0j) #True\n",
    "#----------------------------------------->Output is True"
   ]
  },
  {
   "cell_type": "code",
   "execution_count": 19,
   "id": "60983538",
   "metadata": {},
   "outputs": [
    {
     "name": "stdout",
     "output_type": "stream",
     "text": [
      "False\n",
      "True\n"
     ]
    }
   ],
   "source": [
    "# Q. What is the output of the expression inside the print statement.\n",
    "# Cross check before running the program.\n",
    "a = 10+20j\n",
    "b = 10+20j\n",
    "print(a is b) #False #True or False?\n",
    "print(a is not b) #True #True or False?"
   ]
  },
  {
   "cell_type": "markdown",
   "id": "9ad3e8d8",
   "metadata": {},
   "source": [
    "## Membership operation"
   ]
  },
  {
   "cell_type": "code",
   "execution_count": null,
   "id": "846ab228",
   "metadata": {},
   "outputs": [],
   "source": [
    "Q. \n",
    "in, not in are two membership operators and it returns boolean value"
   ]
  },
  {
   "cell_type": "code",
   "execution_count": 20,
   "id": "99b5c543",
   "metadata": {},
   "outputs": [
    {
     "name": "stdout",
     "output_type": "stream",
     "text": [
      "True\n"
     ]
    }
   ],
   "source": [
    "print('2.7' in 'Python2.7.8') #True"
   ]
  },
  {
   "cell_type": "code",
   "execution_count": 21,
   "id": "762a185e",
   "metadata": {},
   "outputs": [
    {
     "name": "stdout",
     "output_type": "stream",
     "text": [
      "True\n"
     ]
    }
   ],
   "source": [
    "print(10+20j in [10,10.20,10+20j,'Python']) #True"
   ]
  },
  {
   "cell_type": "code",
   "execution_count": 22,
   "id": "344de189",
   "metadata": {},
   "outputs": [
    {
     "name": "stdout",
     "output_type": "stream",
     "text": [
      "True\n"
     ]
    }
   ],
   "source": [
    "print(10+20j in (10,10.20,10+20j,'Python')) #True"
   ]
  },
  {
   "cell_type": "code",
   "execution_count": 23,
   "id": "8f13ab6e",
   "metadata": {},
   "outputs": [
    {
     "name": "stdout",
     "output_type": "stream",
     "text": [
      "True\n"
     ]
    }
   ],
   "source": [
    "print(30+40j in {1,20.30,30+40j}) #True"
   ]
  },
  {
   "cell_type": "code",
   "execution_count": 24,
   "id": "20b07d27",
   "metadata": {},
   "outputs": [
    {
     "name": "stdout",
     "output_type": "stream",
     "text": [
      "True\n"
     ]
    }
   ],
   "source": [
    "print(30+40j in {1:100, 2.3:200, 30+40j:300}) #True"
   ]
  },
  {
   "cell_type": "code",
   "execution_count": 25,
   "id": "072efa24",
   "metadata": {},
   "outputs": [
    {
     "name": "stdout",
     "output_type": "stream",
     "text": [
      "True\n"
     ]
    }
   ],
   "source": [
    "print(10 in range(20)) "
   ]
  },
  {
   "cell_type": "markdown",
   "id": "f09f8e64",
   "metadata": {},
   "source": [
    "### thank you:-"
   ]
  },
  {
   "cell_type": "code",
   "execution_count": null,
   "id": "b749e7fb",
   "metadata": {},
   "outputs": [],
   "source": []
  },
  {
   "cell_type": "code",
   "execution_count": null,
   "id": "e07c4de2",
   "metadata": {},
   "outputs": [],
   "source": []
  }
 ],
 "metadata": {
  "kernelspec": {
   "display_name": "Python 3 (ipykernel)",
   "language": "python",
   "name": "python3"
  },
  "language_info": {
   "codemirror_mode": {
    "name": "ipython",
    "version": 3
   },
   "file_extension": ".py",
   "mimetype": "text/x-python",
   "name": "python",
   "nbconvert_exporter": "python",
   "pygments_lexer": "ipython3",
   "version": "3.9.13"
  }
 },
 "nbformat": 4,
 "nbformat_minor": 5
}
