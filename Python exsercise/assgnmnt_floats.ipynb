{
 "cells": [
  {
   "cell_type": "markdown",
   "id": "09b6a223",
   "metadata": {},
   "source": [
    "# Assignment :> Floats"
   ]
  },
  {
   "cell_type": "markdown",
   "id": "ba071b9f",
   "metadata": {},
   "source": [
    "### Abhilash Gajbhiye ( contact to : abhi.gajbhiye94055@gmail.com or 7218287098 )"
   ]
  },
  {
   "cell_type": "markdown",
   "id": "b341fb02",
   "metadata": {},
   "source": [
    "### Batch - LB_DSC_23rd December_WKDY_EN_2022"
   ]
  },
  {
   "cell_type": "markdown",
   "id": "19230d5d",
   "metadata": {},
   "source": [
    "## Floats"
   ]
  },
  {
   "cell_type": "code",
   "execution_count": null,
   "id": "ab8bea7e",
   "metadata": {},
   "outputs": [],
   "source": []
  },
  {
   "cell_type": "code",
   "execution_count": 1,
   "id": "ba547d64",
   "metadata": {},
   "outputs": [
    {
     "name": "stdout",
     "output_type": "stream",
     "text": [
      "<class 'float'> 1679245621328\n"
     ]
    }
   ],
   "source": [
    "# Q. Declare a float value and store it in a variable.\n",
    "# Check the type and print the id of the same.\n",
    "a=110.00\n",
    "print(type(a),id(a))"
   ]
  },
  {
   "cell_type": "code",
   "execution_count": null,
   "id": "2175c1d3",
   "metadata": {},
   "outputs": [],
   "source": []
  },
  {
   "cell_type": "markdown",
   "id": "db6c19de",
   "metadata": {},
   "source": [
    "# Arithmetic  Operators on float:>"
   ]
  },
  {
   "cell_type": "code",
   "execution_count": 2,
   "id": "dfe8bb4b",
   "metadata": {},
   "outputs": [
    {
     "name": "stdout",
     "output_type": "stream",
     "text": [
      "16.0\n",
      "5.0\n",
      "57.75\n",
      "1.9090909090909092\n",
      "5.0\n",
      "1.0\n",
      "413562.49323606625\n"
     ]
    }
   ],
   "source": [
    "# Q. Arithmetic Operations on float\n",
    "# Take two different float values.\n",
    "# Store them in two different variables.\n",
    "# Do below operations on them:-\n",
    "# Find sum of both numbers\n",
    "# Find difference between them\n",
    "# Find the product of both numbers.\n",
    "# Find value after dividing first num with second number\n",
    "# Find the remainder after dividing first number with second number\n",
    "# Find the quotient after dividing first number with second number\n",
    "# Find the result of the first num to the power of the second number.\n",
    "a=10.50\n",
    "b=5.50\n",
    "print(a+b) #sum\n",
    "print(a-b) #diffrence\n",
    "print(a*b) #multipication\n",
    "print(a/b) #division\n",
    "print(a%b) #modulo\n",
    "print(a//b) #floor division\n",
    "print(a**b) #exponential"
   ]
  },
  {
   "cell_type": "markdown",
   "id": "1b62fe15",
   "metadata": {},
   "source": [
    "# Comparison Operators on float :>"
   ]
  },
  {
   "cell_type": "code",
   "execution_count": 3,
   "id": "7099cda4",
   "metadata": {},
   "outputs": [
    {
     "name": "stdout",
     "output_type": "stream",
     "text": [
      "False\n",
      "True\n",
      "False\n",
      "True\n",
      "True\n"
     ]
    }
   ],
   "source": [
    "# Q. Comparison Operators on float\n",
    "# Take two different float values.\n",
    "# Store them in two different variables.\n",
    "# Do below operations on them:-\n",
    "# Compare these two numbers with below operator:-\n",
    "# Greater than, '>'\n",
    "# Smaller than, '<'\n",
    "# Greater than or equal to, '>='\n",
    "# Less than or equal to, '<='\n",
    "# Observe their output(return type should be boolean)\n",
    "\n",
    "a=10.40\n",
    "b=20.80\n",
    "print(a>b) #false\n",
    "print(a<b) #true\n",
    "print(a>=b) #false\n",
    "print(a<=b) #true\n",
    "print(a!=b) #true"
   ]
  },
  {
   "cell_type": "code",
   "execution_count": 4,
   "id": "d0310d7f",
   "metadata": {
    "scrolled": true
   },
   "outputs": [
    {
     "name": "stdout",
     "output_type": "stream",
     "text": [
      "False\n",
      "True\n"
     ]
    }
   ],
   "source": [
    "# Q. Equality Operator\n",
    "# Take two different float values.\n",
    "# Store them in two different variables.\n",
    "# Equate them using equality operators (==, !=)\n",
    "# Observe the output(return type should be boolean)\n",
    "\n",
    "a=2.0\n",
    "b=1.0\n",
    "print (a==b) #false\n",
    "print(a!=b) #true\n"
   ]
  },
  {
   "cell_type": "markdown",
   "id": "6074fa3b",
   "metadata": {},
   "source": [
    "# Logical operators :-"
   ]
  },
  {
   "cell_type": "code",
   "execution_count": 5,
   "id": "603dcd91",
   "metadata": {},
   "outputs": [],
   "source": [
    "# Q. Logical operators\n",
    "# Observe the output of below code\n",
    "# Cross check the output manually\n",
    "# print(10.20 and 20.30) #both are true and second value taken\n",
    "# >Output is 20.3\n",
    "# print(0.0 and 20.30) #First is false so first value\n",
    "# taken->Output is 0.0\n",
    "\n",
    "# print(20.30 and 0.0) #Goes to till second and second value is\n",
    "# false so second is taken>Output is 0.0\n",
    "# print(0.0 and 0.0) #First is false so first value is\n",
    "# taken->Output is 0.0\n",
    "# print(10.20 or 20.30) #First is True so first value is\n",
    "# taken>Output is 10.2\n",
    "# print(0.0 or 20.30) #Goes to till second and second is true\n",
    "# second value is taken->Output is 20.3\n",
    "# print(20.30 or 0.0) #First is True so first value is\n",
    "# taken->Output is 20.3\n",
    "# print(0.0 or 0.0) #Goes to till second and second is also\n",
    "# false and second value is taken>Output is 0.0\n",
    "# print(not 10.20) #-Not of true is false->Output is False\n",
    "# print(not 0.0) #Not of false is True>Output is True\n",
    "\n"
   ]
  },
  {
   "cell_type": "code",
   "execution_count": 6,
   "id": "e36f3344",
   "metadata": {},
   "outputs": [
    {
     "name": "stdout",
     "output_type": "stream",
     "text": [
      "20.3\n"
     ]
    }
   ],
   "source": [
    "print(10.20 and 20.30) #output---> 20.30"
   ]
  },
  {
   "cell_type": "code",
   "execution_count": 7,
   "id": "eaaf8457",
   "metadata": {},
   "outputs": [
    {
     "name": "stdout",
     "output_type": "stream",
     "text": [
      "0.0\n"
     ]
    }
   ],
   "source": [
    "print(0.0 and 30.30) #output --->0.0"
   ]
  },
  {
   "cell_type": "code",
   "execution_count": 8,
   "id": "8f655253",
   "metadata": {},
   "outputs": [
    {
     "name": "stdout",
     "output_type": "stream",
     "text": [
      "0.0\n"
     ]
    }
   ],
   "source": [
    "print(20.30 and 0.0) #Goes to till second and second value is\n",
    "                      # false so second is taken--->Output is 0.0"
   ]
  },
  {
   "cell_type": "code",
   "execution_count": 9,
   "id": "7744dabe",
   "metadata": {},
   "outputs": [
    {
     "name": "stdout",
     "output_type": "stream",
     "text": [
      "0.0\n"
     ]
    }
   ],
   "source": [
    "print(0.0 and 0.0) #First is false so first value is\n",
    "                    # taken->Output is----> 0.0"
   ]
  },
  {
   "cell_type": "code",
   "execution_count": 10,
   "id": "3d28e211",
   "metadata": {},
   "outputs": [
    {
     "name": "stdout",
     "output_type": "stream",
     "text": [
      "10.2\n"
     ]
    }
   ],
   "source": [
    "print(10.20 or 20.30) #First is True so first value is\n",
    "                      # taken>Output is----> 10.2"
   ]
  },
  {
   "cell_type": "code",
   "execution_count": 11,
   "id": "8f1afc48",
   "metadata": {},
   "outputs": [
    {
     "name": "stdout",
     "output_type": "stream",
     "text": [
      "20.3\n"
     ]
    }
   ],
   "source": [
    "print(0.0 or 20.30) #Goes to till second and second is true\n",
    "                    # second value is taken->Output is ----> 20.3"
   ]
  },
  {
   "cell_type": "code",
   "execution_count": 12,
   "id": "9eda01cd",
   "metadata": {},
   "outputs": [
    {
     "name": "stdout",
     "output_type": "stream",
     "text": [
      "20.3\n"
     ]
    }
   ],
   "source": [
    "print(20.30 or 0.0) #First is True so first value is\n",
    "                    # taken->Output is 20.3"
   ]
  },
  {
   "cell_type": "code",
   "execution_count": 13,
   "id": "3dc9858f",
   "metadata": {},
   "outputs": [
    {
     "name": "stdout",
     "output_type": "stream",
     "text": [
      "0.0\n"
     ]
    }
   ],
   "source": [
    "print(0.0 or 0.0) #Goes to till second and second is also\n",
    "                  # false and second value is taken>Output is ----> 0.0"
   ]
  },
  {
   "cell_type": "code",
   "execution_count": 14,
   "id": "e35b9164",
   "metadata": {},
   "outputs": [
    {
     "name": "stdout",
     "output_type": "stream",
     "text": [
      "False\n"
     ]
    }
   ],
   "source": [
    "print(not 10.20) #-Not of true is false->Output is False"
   ]
  },
  {
   "cell_type": "code",
   "execution_count": 15,
   "id": "20afb27e",
   "metadata": {},
   "outputs": [
    {
     "name": "stdout",
     "output_type": "stream",
     "text": [
      "True\n"
     ]
    }
   ],
   "source": [
    "print(not 0.0) #Not of false is True>Output is True\n"
   ]
  },
  {
   "cell_type": "code",
   "execution_count": 16,
   "id": "8cde6463",
   "metadata": {},
   "outputs": [
    {
     "name": "stdout",
     "output_type": "stream",
     "text": [
      "1679245611408\n",
      "1679245621776\n",
      "False\n",
      "True\n"
     ]
    }
   ],
   "source": [
    "# Q. What is the output of expression inside print statement. Cross check\n",
    "# before running the program.\n",
    "# a = 10.20\n",
    "# b - 10.20\n",
    "# print(a is b) #True or False? True 10.20<256\n",
    "# print(a is not b) #True or False? False\n",
    "# Why the Id of float values are different when the same value is\n",
    "# assigned to two different variables\n",
    "# ex: a = 10.5 b=10.5. but id will be same if I assign the variable\n",
    "# having float i.e. a=c then both a and c's Id are same\n",
    "\n",
    "a = 10.20\n",
    "b = 10.20\n",
    "print(id(a))\n",
    "print(id(b))\n",
    "print(a is b) # false 10.20<256 as floats does not applicble to memory reusabiility property\n",
    "print ( a is not b) #true as id of a and b are not same\n"
   ]
  },
  {
   "cell_type": "code",
   "execution_count": 17,
   "id": "b220628c",
   "metadata": {},
   "outputs": [
    {
     "name": "stdout",
     "output_type": "stream",
     "text": [
      "1679245621456\n",
      "1679245611376\n",
      "1679245611376\n",
      "True\n"
     ]
    }
   ],
   "source": [
    "x= 2.5\n",
    "y =2.5\n",
    "z= y\n",
    "print(id(x))\n",
    "print(id(y))    #Object reusability concept is not applicable on float values.\n",
    "print(id(z) )\n",
    "print (y is z)"
   ]
  },
  {
   "cell_type": "code",
   "execution_count": 18,
   "id": "954c4d48",
   "metadata": {},
   "outputs": [],
   "source": [
    "##  Bitwise operation is not applicable between instances of float.\n"
   ]
  },
  {
   "cell_type": "markdown",
   "id": "906fda11",
   "metadata": {},
   "source": [
    "# Q. Membership operation\n",
    "#in, not in are two membership operators and it returns boolean value\n",
    "\n",
    "\n",
    "\n",
    "\n",
    "\n"
   ]
  },
  {
   "cell_type": "code",
   "execution_count": 19,
   "id": "31567208",
   "metadata": {},
   "outputs": [
    {
     "name": "stdout",
     "output_type": "stream",
     "text": [
      "True\n"
     ]
    }
   ],
   "source": [
    "print('2.7' in 'Python2.7.8') #True"
   ]
  },
  {
   "cell_type": "code",
   "execution_count": 20,
   "id": "24890edf",
   "metadata": {},
   "outputs": [
    {
     "name": "stdout",
     "output_type": "stream",
     "text": [
      "True\n"
     ]
    }
   ],
   "source": [
    "print(10.20 in [10,10.20,10+20j,'Python']) #True"
   ]
  },
  {
   "cell_type": "code",
   "execution_count": 21,
   "id": "4ea30544",
   "metadata": {},
   "outputs": [
    {
     "name": "stdout",
     "output_type": "stream",
     "text": [
      "True\n"
     ]
    }
   ],
   "source": [
    "print(10.20 in (10,10.20,10+20j,'Python')) # True"
   ]
  },
  {
   "cell_type": "code",
   "execution_count": 22,
   "id": "2bc7dab3",
   "metadata": {},
   "outputs": [
    {
     "name": "stdout",
     "output_type": "stream",
     "text": [
      "True\n"
     ]
    }
   ],
   "source": [
    "print(20.30 in {1,20.30,30+40j}) # True"
   ]
  },
  {
   "cell_type": "code",
   "execution_count": 23,
   "id": "f7ba8b1c",
   "metadata": {},
   "outputs": [
    {
     "name": "stdout",
     "output_type": "stream",
     "text": [
      "True\n"
     ]
    }
   ],
   "source": [
    "print(2.3 in {1:100, 2.3:200, 30+40j:300}) # True"
   ]
  },
  {
   "cell_type": "code",
   "execution_count": 24,
   "id": "29f37994",
   "metadata": {},
   "outputs": [
    {
     "name": "stdout",
     "output_type": "stream",
     "text": [
      "True\n"
     ]
    }
   ],
   "source": [
    "print(10 in range(20)) #true"
   ]
  },
  {
   "cell_type": "markdown",
   "id": "b8d4bcd2",
   "metadata": {},
   "source": [
    "# Thank you:>"
   ]
  },
  {
   "cell_type": "code",
   "execution_count": null,
   "id": "4b55ad90",
   "metadata": {},
   "outputs": [],
   "source": []
  }
 ],
 "metadata": {
  "kernelspec": {
   "display_name": "Python 3 (ipykernel)",
   "language": "python",
   "name": "python3"
  },
  "language_info": {
   "codemirror_mode": {
    "name": "ipython",
    "version": 3
   },
   "file_extension": ".py",
   "mimetype": "text/x-python",
   "name": "python",
   "nbconvert_exporter": "python",
   "pygments_lexer": "ipython3",
   "version": "3.9.13"
  },
  "vscode": {
   "interpreter": {
    "hash": "84fd2673a0f847bf80637898000f9b4175f2ffd476d5f31b41a838c2acdb5b76"
   }
  }
 },
 "nbformat": 4,
 "nbformat_minor": 5
}
