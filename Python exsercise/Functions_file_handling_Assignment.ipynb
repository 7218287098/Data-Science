{
 "cells": [
  {
   "cell_type": "markdown",
   "metadata": {},
   "source": [
    "# Assignment:- Function and file handling"
   ]
  },
  {
   "cell_type": "markdown",
   "metadata": {},
   "source": [
    "### Abhilash Gajbhiye ( contact to : abhi.gajbhiye94055@gmail.com or 7218287098 )"
   ]
  },
  {
   "cell_type": "markdown",
   "metadata": {},
   "source": [
    "### Batch - LB_DSC_23rd December_WKDY_EN_2022"
   ]
  },
  {
   "cell_type": "code",
   "execution_count": null,
   "metadata": {},
   "outputs": [],
   "source": []
  },
  {
   "cell_type": "markdown",
   "metadata": {},
   "source": [
    "### Q1. Write a Python program to read a file line by line and store it into a list"
   ]
  },
  {
   "cell_type": "code",
   "execution_count": 5,
   "metadata": {},
   "outputs": [],
   "source": [
    "f= open('C:\\\\Users\\\\LENOVO\\\\Downloads/file_handling.txt', \"w\")\n",
    "f.close()"
   ]
  },
  {
   "cell_type": "code",
   "execution_count": 11,
   "metadata": {},
   "outputs": [
    {
     "data": {
      "text/plain": [
       "['Twinkle, twinkle, little star,\\n',\n",
       " 'How I wonder what you are!\\n',\n",
       " 'Up above the world so high,\\n',\n",
       " 'Like a diamond in the sky.']"
      ]
     },
     "execution_count": 11,
     "metadata": {},
     "output_type": "execute_result"
    }
   ],
   "source": [
    "f= open('C:\\\\Users\\\\LENOVO\\\\Downloads/file_handling.txt', \"r\")\n",
    "f.readlines()"
   ]
  },
  {
   "cell_type": "markdown",
   "metadata": {},
   "source": [
    "### Q2. Write a Python program to extract characters from various text files and puts them into a list."
   ]
  },
  {
   "cell_type": "code",
   "execution_count": 25,
   "metadata": {},
   "outputs": [],
   "source": [
    "# words1.txt\n",
    "# Welcome to the Python Wiki, a user-editable compendium of knowledge based around the Python programming language. Some pages are protected against casual editing - see WikiEditingGuidelines for more information about editing content.\n",
    "# words2.txt\n",
    "# Python is a great object-oriented, interpreted, and interactive programming language. It is often compared (favorably of course :-) ) to Lisp, Tcl, Perl, Ruby, C#, Visual Basic, Visual Fox Pro, Scheme or Java... and it's much more fun."
   ]
  },
  {
   "cell_type": "code",
   "execution_count": 22,
   "metadata": {},
   "outputs": [
    {
     "data": {
      "text/plain": [
       "['Welcome',\n",
       " 'to',\n",
       " 'the',\n",
       " 'Python',\n",
       " 'Wiki,',\n",
       " 'a',\n",
       " 'user-editable',\n",
       " 'compendium',\n",
       " 'of',\n",
       " 'knowledge',\n",
       " 'based',\n",
       " 'around',\n",
       " 'the',\n",
       " 'Python',\n",
       " 'programming',\n",
       " 'language.',\n",
       " 'Some',\n",
       " 'pages',\n",
       " 'are',\n",
       " 'protected',\n",
       " 'against',\n",
       " 'casual',\n",
       " 'editing',\n",
       " '-',\n",
       " 'see',\n",
       " 'WikiEditingGuidelines',\n",
       " 'for',\n",
       " 'more',\n",
       " 'information',\n",
       " 'about',\n",
       " 'editing',\n",
       " 'content.']"
      ]
     },
     "execution_count": 22,
     "metadata": {},
     "output_type": "execute_result"
    }
   ],
   "source": [
    "f= open('C:\\\\Users\\\\LENOVO\\\\Downloads/words1.txt', \"r\")\n",
    "(f.read().split())\n",
    "# f.close()"
   ]
  },
  {
   "cell_type": "code",
   "execution_count": 24,
   "metadata": {},
   "outputs": [
    {
     "data": {
      "text/plain": [
       "['Python',\n",
       " 'is',\n",
       " 'a',\n",
       " 'great',\n",
       " 'object-oriented,',\n",
       " 'interpreted,',\n",
       " 'and',\n",
       " 'interactive',\n",
       " 'programming',\n",
       " 'language.',\n",
       " 'It',\n",
       " 'is',\n",
       " 'often',\n",
       " 'compared',\n",
       " '(favorably',\n",
       " 'of',\n",
       " 'course',\n",
       " ':-)',\n",
       " ')',\n",
       " 'to',\n",
       " 'Lisp,',\n",
       " 'Tcl,',\n",
       " 'Perl,',\n",
       " 'Ruby,',\n",
       " 'C#,',\n",
       " 'Visual',\n",
       " 'Basic,',\n",
       " 'Visual',\n",
       " 'Fox',\n",
       " 'Pro,',\n",
       " 'Scheme',\n",
       " 'or',\n",
       " 'Java...',\n",
       " 'and',\n",
       " \"it's\",\n",
       " 'much',\n",
       " 'more',\n",
       " 'fun.']"
      ]
     },
     "execution_count": 24,
     "metadata": {},
     "output_type": "execute_result"
    }
   ],
   "source": [
    "f= open('C:\\\\Users\\\\LENOVO\\\\Downloads/words2.txt', \"r\")\n",
    "(f.read().split())\n",
    "# f.close()\n"
   ]
  },
  {
   "cell_type": "code",
   "execution_count": null,
   "metadata": {},
   "outputs": [],
   "source": []
  },
  {
   "cell_type": "markdown",
   "metadata": {},
   "source": [
    "# FUNCTIONS"
   ]
  },
  {
   "cell_type": "markdown",
   "metadata": {},
   "source": [
    "### 1. Write a Python function to find the Max of three numbers."
   ]
  },
  {
   "cell_type": "code",
   "execution_count": 4,
   "metadata": {},
   "outputs": [
    {
     "name": "stdout",
     "output_type": "stream",
     "text": [
      " max num is:  45\n"
     ]
    }
   ],
   "source": [
    "\n",
    "def max_num(a,b,c):\n",
    "    if a>b and a>c:\n",
    "        print(\"the max num is: \" ,a)\n",
    "    elif b>a and b>c:\n",
    "        print(\" max num is: \",b)\n",
    "    elif c>a and c>b :\n",
    "        print(\"max num is : \" ,c)\n",
    "max_num(4,45,1)\n",
    "            "
   ]
  },
  {
   "cell_type": "markdown",
   "metadata": {},
   "source": [
    "### 2. Write a Python function to sum all the numbers in a list"
   ]
  },
  {
   "cell_type": "code",
   "execution_count": 13,
   "metadata": {},
   "outputs": [],
   "source": [
    "from functools import reduce"
   ]
  },
  {
   "cell_type": "code",
   "execution_count": 16,
   "metadata": {},
   "outputs": [
    {
     "name": "stdout",
     "output_type": "stream",
     "text": [
      "103\n"
     ]
    }
   ],
   "source": [
    "def sum_num(a):\n",
    "    print(reduce((lambda x,y: x+y) , a))\n",
    "sum_num([12,23,54,6,3,5])"
   ]
  },
  {
   "cell_type": "markdown",
   "metadata": {},
   "source": [
    "### 3. Write a Python function to check whether a string is a pangram or not."
   ]
  },
  {
   "cell_type": "code",
   "execution_count": null,
   "metadata": {},
   "outputs": [],
   "source": [
    "# Note : Pangrams are words or sentences containing every letter of the alphabet at least once.\n",
    "# For example : \"The quick brown fox jumps over the lazy dog\"\n",
    "    "
   ]
  },
  {
   "cell_type": "code",
   "execution_count": 6,
   "metadata": {},
   "outputs": [
    {
     "name": "stdout",
     "output_type": "stream",
     "text": [
      "pangram\n"
     ]
    }
   ],
   "source": [
    "def pangram(a):\n",
    "    for i in 'abcdefghijklmnopqrstuvwxyz':\n",
    "        if i not in a.lower():\n",
    "            print(\"not pangram\")\n",
    "    else:\n",
    "        print('pangram')\n",
    "pangram(\"The quick brown fox jumps over the lazy dog\")"
   ]
  },
  {
   "cell_type": "markdown",
   "metadata": {},
   "source": [
    "### 4. Write a Python program to sort a list of tuples using Lambda."
   ]
  },
  {
   "cell_type": "code",
   "execution_count": null,
   "metadata": {},
   "outputs": [],
   "source": [
    "\n",
    "# Original list of tuples:\n",
    "# [('English', 88), ('Science', 90), ('Maths', 97), ('Social sciences', 82)]\n",
    "# Sorting the List of Tuples:\n",
    "# [('Social sciences', 82), ('English', 88), ('Science', 90), ('Maths', 97)]\n",
    "\n"
   ]
  },
  {
   "cell_type": "code",
   "execution_count": 5,
   "metadata": {},
   "outputs": [
    {
     "name": "stdout",
     "output_type": "stream",
     "text": [
      "None\n"
     ]
    }
   ],
   "source": [
    "def sort_list(list1): \n",
    "    print(list1.sort(key = lambda x: x[1]))\n",
    "    \n",
    "list1= [('English', 88), ('Science', 90), ('Maths', 97), ('Social sciences', 82)]    \n",
    "    \n",
    "sort_list(list1)\n",
    "    "
   ]
  },
  {
   "cell_type": "markdown",
   "metadata": {},
   "source": [
    "### 5. Write a Python program to get the Fibonacci series between 0 to 50.\n"
   ]
  },
  {
   "cell_type": "code",
   "execution_count": 1,
   "metadata": {},
   "outputs": [
    {
     "name": "stdout",
     "output_type": "stream",
     "text": [
      "pangram\n"
     ]
    }
   ],
   "source": []
  },
  {
   "cell_type": "code",
   "execution_count": 2,
   "metadata": {},
   "outputs": [
    {
     "name": "stdout",
     "output_type": "stream",
     "text": [
      "pangram\n"
     ]
    }
   ],
   "source": [
    "pangram('The quick brown fox jumps over the lazy Dog')"
   ]
  },
  {
   "cell_type": "code",
   "execution_count": null,
   "metadata": {},
   "outputs": [],
   "source": []
  },
  {
   "cell_type": "markdown",
   "metadata": {},
   "source": [
    "### 5. Write a Python program to get the Fibonacci series between 0 to 50."
   ]
  },
  {
   "cell_type": "code",
   "execution_count": 7,
   "metadata": {},
   "outputs": [
    {
     "name": "stdout",
     "output_type": "stream",
     "text": [
      "1\n",
      "1\n",
      "2\n",
      "3\n",
      "5\n",
      "8\n",
      "13\n",
      "21\n",
      "34\n"
     ]
    }
   ],
   "source": [
    "x,y=0,1\n",
    "\n",
    "while y<50:\n",
    "    print(y)\n",
    "    x,y = y,x+y\n"
   ]
  },
  {
   "cell_type": "markdown",
   "metadata": {},
   "source": [
    "### 7. Write a Python program to count the number of even and odd numbers from a series of numbers."
   ]
  },
  {
   "cell_type": "code",
   "execution_count": 18,
   "metadata": {},
   "outputs": [
    {
     "name": "stdout",
     "output_type": "stream",
     "text": [
      "number of even numbers is:  50\n",
      "number of odd numbers is:  50\n"
     ]
    }
   ],
   "source": [
    "a= 0\n",
    "for i in range(1,101):\n",
    "    \n",
    "    if i%2==0:\n",
    "        a+=1\n",
    "print('number of even numbers is: ',a)\n",
    "print('number of odd numbers is: ', 100-a)"
   ]
  },
  {
   "cell_type": "code",
   "execution_count": 20,
   "metadata": {},
   "outputs": [],
   "source": [
    "# '''Q.8. Write a Python program which iterates the integers from 1 to 50. \n",
    "# For multiples of three print \"Fizz\" instead of the number \n",
    "# and for the multiples of five print \"Buzz\". \n",
    "# For numbers which are multiples of both three and five print \"FizzBuzz\".'''\n"
   ]
  },
  {
   "cell_type": "code",
   "execution_count": 23,
   "metadata": {},
   "outputs": [
    {
     "name": "stdout",
     "output_type": "stream",
     "text": [
      "1\n",
      "2\n",
      "Fizz\n",
      "4\n",
      "Buzz\n",
      "Fizz\n",
      "7\n",
      "8\n",
      "Fizz\n",
      "Buzz\n",
      "11\n",
      "Fizz\n",
      "13\n",
      "14\n",
      "Fizz\n",
      "16\n",
      "17\n",
      "Fizz\n",
      "19\n",
      "Buzz\n",
      "Fizz\n",
      "22\n",
      "23\n",
      "Fizz\n",
      "Buzz\n",
      "26\n",
      "Fizz\n",
      "28\n",
      "29\n",
      "Fizz\n",
      "31\n",
      "32\n",
      "Fizz\n",
      "34\n",
      "Buzz\n",
      "Fizz\n",
      "37\n",
      "38\n",
      "Fizz\n",
      "Buzz\n",
      "41\n",
      "Fizz\n",
      "43\n",
      "44\n",
      "Fizz\n",
      "46\n",
      "47\n",
      "Fizz\n",
      "49\n",
      "Buzz\n"
     ]
    }
   ],
   "source": [
    "for i in range(1,51):\n",
    "    if i%3==0:\n",
    "        print('Fizz')\n",
    "    elif i%3==0 and i%5==0:\n",
    "        print('FizzBuzz')\n",
    "    elif i%5==0:\n",
    "        print('Buzz')\n",
    "    else:\n",
    "        print(i)"
   ]
  },
  {
   "cell_type": "code",
   "execution_count": null,
   "metadata": {},
   "outputs": [],
   "source": []
  },
  {
   "cell_type": "markdown",
   "metadata": {},
   "source": [
    "# File handling\n",
    "\n",
    "<b>Q1. Write a Python program to read a file line by line and store it into a list</b>\n",
    "\n",
    "<b>Q2. Write a Python program to extract characters from various text files and puts them into a list.</b>\n",
    "\n",
    "words1.txt <br>\n",
    "Welcome to the Python Wiki, a user-editable compendium of knowledge\n",
    "based around the Python programming language. Some pages are protected\n",
    "against casual editing - see WikiEditingGuidelines for more information\n",
    "about editing content. <br>\n",
    "words2.txt <br>\n",
    "Python is a great object-oriented, interpreted, and interactive\n",
    "programming language. It is often compared (favorably of course :-) )\n",
    "to Lisp, Tcl, Perl, Ruby, C#, Visual Basic, Visual Fox Pro, Scheme or Java...\n",
    "and it's much more fun. <br>\n",
    "\n",
    "# Functions\n",
    "\n",
    "<b>1. Write a Python function to find the Max of three numbers.  </b>\n",
    "\n",
    "<b>2. Write a Python function to sum all the numbers in a list </b>\n",
    "\n",
    "<b>3. Write a Python function to check whether a string is a pangram or not. </b> <br>\n",
    "Note : Pangrams are words or sentences containing every letter of the alphabet at least once.<br>\n",
    "For example : \"The quick brown fox jumps over the lazy dog\"\n",
    "\n",
    "<b>4. Write a Python program to sort a list of tuples using Lambda.</b> <br>\n",
    "Original list of tuples:<br>\n",
    "[('English', 88), ('Science', 90), ('Maths', 97), ('Social sciences', 82)]<br>\n",
    "Sorting the List of Tuples:<br>\n",
    "[('Social sciences', 82), ('English', 88), ('Science', 90), ('Maths', 97)]<br>\n",
    "\n",
    "<b>5. Write a Python program to get the Fibonacci series between 0 to 50. </b>\n",
    "\n",
    "<b>6. Write a Python program to convert temperatures to and from celsius, fahrenheit </b>\n",
    "\n",
    "<b>7. Write a Python program to count the number of even and odd numbers from a series of numbers. </b>\n",
    "\n",
    "<b>8. Write a Python program which iterates the integers from 1 to 50. For multiples of three print \"Fizz\" instead of the number and for the multiples of five print \"Buzz\". For numbers which are multiples of both three and five print \"FizzBuzz\". </b>"
   ]
  },
  {
   "cell_type": "markdown",
   "metadata": {},
   "source": [
    "## THANK YOU"
   ]
  },
  {
   "cell_type": "code",
   "execution_count": null,
   "metadata": {},
   "outputs": [],
   "source": []
  }
 ],
 "metadata": {
  "kernelspec": {
   "display_name": "Python 3 (ipykernel)",
   "language": "python",
   "name": "python3"
  },
  "language_info": {
   "codemirror_mode": {
    "name": "ipython",
    "version": 3
   },
   "file_extension": ".py",
   "mimetype": "text/x-python",
   "name": "python",
   "nbconvert_exporter": "python",
   "pygments_lexer": "ipython3",
   "version": "3.9.13"
  }
 },
 "nbformat": 4,
 "nbformat_minor": 4
}
