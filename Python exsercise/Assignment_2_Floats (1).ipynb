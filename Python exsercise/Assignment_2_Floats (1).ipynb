{
 "cells": [
  {
   "cell_type": "markdown",
   "id": "2556c7f4",
   "metadata": {},
   "source": [
    "# Assignment :>"
   ]
  },
  {
   "cell_type": "markdown",
   "id": "62d49afc",
   "metadata": {},
   "source": [
    "## Floats"
   ]
  },
  {
   "cell_type": "code",
   "execution_count": null,
   "id": "1467766d",
   "metadata": {},
   "outputs": [],
   "source": []
  },
  {
   "cell_type": "code",
   "execution_count": 26,
   "id": "0d35b9d6",
   "metadata": {},
   "outputs": [
    {
     "name": "stdout",
     "output_type": "stream",
     "text": [
      "<class 'float'> 1314102471664\n"
     ]
    }
   ],
   "source": [
    "# Q. Declare a float value and store it in a variable.\n",
    "# Check the type and print the id of the same.\n",
    "a=110.00\n",
    "print(type(a),id(a))"
   ]
  },
  {
   "cell_type": "code",
   "execution_count": null,
   "id": "cf593fbd",
   "metadata": {},
   "outputs": [],
   "source": []
  },
  {
   "cell_type": "markdown",
   "id": "75eb4f27",
   "metadata": {},
   "source": [
    "# Arithmetic  Operators on float:>"
   ]
  },
  {
   "cell_type": "code",
   "execution_count": 27,
   "id": "7750dce8",
   "metadata": {},
   "outputs": [
    {
     "name": "stdout",
     "output_type": "stream",
     "text": [
      "16.0\n",
      "5.0\n",
      "57.75\n",
      "1.9090909090909092\n",
      "5.0\n",
      "1.0\n",
      "413562.49323606625\n"
     ]
    }
   ],
   "source": [
    "# Q. Arithmetic Operations on float\n",
    "# Take two different float values.\n",
    "# Store them in two different variables.\n",
    "# Do below operations on them:-\n",
    "# Find sum of both numbers\n",
    "# Find difference between them\n",
    "# Find the product of both numbers.\n",
    "# Find value after dividing first num with second number\n",
    "# Find the remainder after dividing first number with second number\n",
    "# Find the quotient after dividing first number with second number\n",
    "# Find the result of the first num to the power of the second number.\n",
    "a=10.50\n",
    "b=5.50\n",
    "print(a+b) #sum\n",
    "print(a-b) #diffrence\n",
    "print(a*b) #multipication\n",
    "print(a/b) #division\n",
    "print(a%b) #modulo\n",
    "print(a//b) #floor division\n",
    "print(a**b) #exponential"
   ]
  },
  {
   "cell_type": "markdown",
   "id": "a6e0b554",
   "metadata": {},
   "source": [
    "# Comparison Operators on float :>"
   ]
  },
  {
   "cell_type": "code",
   "execution_count": 28,
   "id": "aa711822",
   "metadata": {},
   "outputs": [
    {
     "name": "stdout",
     "output_type": "stream",
     "text": [
      "False\n",
      "True\n",
      "False\n",
      "True\n",
      "True\n"
     ]
    }
   ],
   "source": [
    "# Q. Comparison Operators on float\n",
    "# Take two different float values.\n",
    "# Store them in two different variables.\n",
    "# Do below operations on them:-\n",
    "# Compare these two numbers with below operator:-\n",
    "# Greater than, '>'\n",
    "# Smaller than, '<'\n",
    "# Greater than or equal to, '>='\n",
    "# Less than or equal to, '<='\n",
    "# Observe their output(return type should be boolean)\n",
    "\n",
    "a=10.40\n",
    "b=20.80\n",
    "print(a>b) #false\n",
    "print(a<b) #true\n",
    "print(a>=b) #false\n",
    "print(a<=b) #true\n",
    "print(a!=b) #true"
   ]
  },
  {
   "cell_type": "code",
   "execution_count": 29,
   "id": "af93cf64",
   "metadata": {
    "scrolled": true
   },
   "outputs": [
    {
     "name": "stdout",
     "output_type": "stream",
     "text": [
      "False\n",
      "True\n"
     ]
    }
   ],
   "source": [
    "# Q. Equality Operator\n",
    "# Take two different float values.\n",
    "# Store them in two different variables.\n",
    "# Equate them using equality operators (==, !=)\n",
    "# Observe the output(return type should be boolean)\n",
    "\n",
    "a=2.0\n",
    "b=1.0\n",
    "print (a==b) #false\n",
    "print(a!=b) #true\n"
   ]
  },
  {
   "cell_type": "markdown",
   "id": "90fa6126",
   "metadata": {},
   "source": [
    "# Logical operators :-"
   ]
  },
  {
   "cell_type": "code",
   "execution_count": 30,
   "id": "81f04b6b",
   "metadata": {},
   "outputs": [],
   "source": [
    "# Q. Logical operators\n",
    "# Observe the output of below code\n",
    "# Cross check the output manually\n",
    "# print(10.20 and 20.30) #both are true and second value taken\n",
    "# >Output is 20.3\n",
    "# print(0.0 and 20.30) #First is false so first value\n",
    "# taken->Output is 0.0\n",
    "\n",
    "# print(20.30 and 0.0) #Goes to till second and second value is\n",
    "# false so second is taken>Output is 0.0\n",
    "# print(0.0 and 0.0) #First is false so first value is\n",
    "# taken->Output is 0.0\n",
    "# print(10.20 or 20.30) #First is True so first value is\n",
    "# taken>Output is 10.2\n",
    "# print(0.0 or 20.30) #Goes to till second and second is true\n",
    "# second value is taken->Output is 20.3\n",
    "# print(20.30 or 0.0) #First is True so first value is\n",
    "# taken->Output is 20.3\n",
    "# print(0.0 or 0.0) #Goes to till second and second is also\n",
    "# false and second value is taken>Output is 0.0\n",
    "# print(not 10.20) #-Not of true is false->Output is False\n",
    "# print(not 0.0) #Not of false is True>Output is True\n",
    "\n"
   ]
  },
  {
   "cell_type": "code",
   "execution_count": 31,
   "id": "c980174b",
   "metadata": {},
   "outputs": [
    {
     "name": "stdout",
     "output_type": "stream",
     "text": [
      "20.3\n"
     ]
    }
   ],
   "source": [
    "print(10.20 and 20.30) #output---> 20.30"
   ]
  },
  {
   "cell_type": "code",
   "execution_count": 32,
   "id": "f324b944",
   "metadata": {},
   "outputs": [
    {
     "name": "stdout",
     "output_type": "stream",
     "text": [
      "0.0\n"
     ]
    }
   ],
   "source": [
    "print(0.0 and 30.30) #output --->0.0"
   ]
  },
  {
   "cell_type": "code",
   "execution_count": 33,
   "id": "e910dd35",
   "metadata": {},
   "outputs": [
    {
     "name": "stdout",
     "output_type": "stream",
     "text": [
      "0.0\n"
     ]
    }
   ],
   "source": [
    " print(20.30 and 0.0) #Goes to till second and second value is\n",
    "                      # false so second is taken--->Output is 0.0"
   ]
  },
  {
   "cell_type": "code",
   "execution_count": 34,
   "id": "41c6657e",
   "metadata": {},
   "outputs": [
    {
     "name": "stdout",
     "output_type": "stream",
     "text": [
      "0.0\n"
     ]
    }
   ],
   "source": [
    "print(0.0 and 0.0) #First is false so first value is\n",
    "                    # taken->Output is----> 0.0"
   ]
  },
  {
   "cell_type": "code",
   "execution_count": 35,
   "id": "97fca8c4",
   "metadata": {},
   "outputs": [
    {
     "name": "stdout",
     "output_type": "stream",
     "text": [
      "10.2\n"
     ]
    }
   ],
   "source": [
    "print(10.20 or 20.30) #First is True so first value is\n",
    "                      # taken>Output is----> 10.2"
   ]
  },
  {
   "cell_type": "code",
   "execution_count": 36,
   "id": "9afd3143",
   "metadata": {},
   "outputs": [
    {
     "name": "stdout",
     "output_type": "stream",
     "text": [
      "20.3\n"
     ]
    }
   ],
   "source": [
    "print(0.0 or 20.30) #Goes to till second and second is true\n",
    "                    # second value is taken->Output is ----> 20.3"
   ]
  },
  {
   "cell_type": "code",
   "execution_count": 37,
   "id": "8bc4c7fb",
   "metadata": {},
   "outputs": [
    {
     "name": "stdout",
     "output_type": "stream",
     "text": [
      "20.3\n"
     ]
    }
   ],
   "source": [
    " print(20.30 or 0.0) #First is True so first value is\n",
    "                    # taken->Output is 20.3"
   ]
  },
  {
   "cell_type": "code",
   "execution_count": 38,
   "id": "c5722827",
   "metadata": {},
   "outputs": [
    {
     "name": "stdout",
     "output_type": "stream",
     "text": [
      "0.0\n"
     ]
    }
   ],
   "source": [
    "print(0.0 or 0.0) #Goes to till second and second is also\n",
    "                  # false and second value is taken>Output is ----> 0.0"
   ]
  },
  {
   "cell_type": "code",
   "execution_count": 39,
   "id": "6a82ef2f",
   "metadata": {},
   "outputs": [
    {
     "name": "stdout",
     "output_type": "stream",
     "text": [
      "False\n"
     ]
    }
   ],
   "source": [
    "print(not 10.20) #-Not of true is false->Output is False"
   ]
  },
  {
   "cell_type": "code",
   "execution_count": 40,
   "id": "65f90a28",
   "metadata": {},
   "outputs": [
    {
     "name": "stdout",
     "output_type": "stream",
     "text": [
      "True\n"
     ]
    }
   ],
   "source": [
    "print(not 0.0) #Not of false is True>Output is True\n"
   ]
  },
  {
   "cell_type": "code",
   "execution_count": 41,
   "id": "d80fcd74",
   "metadata": {},
   "outputs": [
    {
     "name": "stdout",
     "output_type": "stream",
     "text": [
      "1314102472304\n",
      "1314102470384\n",
      "False\n",
      "True\n"
     ]
    }
   ],
   "source": [
    "# Q. What is the output of expression inside print statement. Cross check\n",
    "# before running the program.\n",
    "# a = 10.20\n",
    "# b - 10.20\n",
    "# print(a is b) #True or False? True 10.20<256\n",
    "# print(a is not b) #True or False? False\n",
    "# Why the Id of float values are different when the same value is\n",
    "# assigned to two different variables\n",
    "# ex: a = 10.5 b=10.5. but id will be same if I assign the variable\n",
    "# having float i.e. a=c then both a and c's Id are same\n",
    "\n",
    "a = 10.20\n",
    "b = 10.20\n",
    "print(id(a))\n",
    "print(id(b))\n",
    "print(a is b) # false 10.20<256 as floats does not applicble to memory reusabiility property\n",
    "print ( a is not b) #true as id of a and b are not same\n"
   ]
  },
  {
   "cell_type": "code",
   "execution_count": 42,
   "id": "693fea0d",
   "metadata": {},
   "outputs": [
    {
     "name": "stdout",
     "output_type": "stream",
     "text": [
      "1314102469520\n",
      "1314102472496\n",
      "1314102472496\n",
      "True\n"
     ]
    }
   ],
   "source": [
    "x= 2.5\n",
    "y =2.5\n",
    "z= y\n",
    "print(id(x))\n",
    "print(id(y))    #Object reusability concept is not applicable on float values.\n",
    "print(id(z) )\n",
    "print (y is z)"
   ]
  },
  {
   "cell_type": "code",
   "execution_count": 43,
   "id": "1fbda4eb",
   "metadata": {},
   "outputs": [],
   "source": [
    "##  Bitwise operation is not applicable between instances of float.\n"
   ]
  },
  {
   "cell_type": "markdown",
   "id": "fca24d11",
   "metadata": {},
   "source": [
    "# Q. Membership operation\n",
    "#in, not in are two membership operators and it returns boolean value\n",
    "\n",
    "\n",
    "\n",
    "\n",
    "\n"
   ]
  },
  {
   "cell_type": "code",
   "execution_count": 44,
   "id": "b8db19e0",
   "metadata": {},
   "outputs": [
    {
     "name": "stdout",
     "output_type": "stream",
     "text": [
      "True\n"
     ]
    }
   ],
   "source": [
    "print('2.7' in 'Python2.7.8') #True"
   ]
  },
  {
   "cell_type": "code",
   "execution_count": 45,
   "id": "5cb7f760",
   "metadata": {},
   "outputs": [
    {
     "name": "stdout",
     "output_type": "stream",
     "text": [
      "True\n"
     ]
    }
   ],
   "source": [
    "print(10.20 in [10,10.20,10+20j,'Python']) #True"
   ]
  },
  {
   "cell_type": "code",
   "execution_count": 46,
   "id": "89b65546",
   "metadata": {},
   "outputs": [
    {
     "name": "stdout",
     "output_type": "stream",
     "text": [
      "True\n"
     ]
    }
   ],
   "source": [
    "print(10.20 in (10,10.20,10+20j,'Python')) # True"
   ]
  },
  {
   "cell_type": "code",
   "execution_count": 47,
   "id": "41607e80",
   "metadata": {},
   "outputs": [
    {
     "name": "stdout",
     "output_type": "stream",
     "text": [
      "True\n"
     ]
    }
   ],
   "source": [
    "print(20.30 in {1,20.30,30+40j}) # True"
   ]
  },
  {
   "cell_type": "code",
   "execution_count": 48,
   "id": "f4ff6db2",
   "metadata": {},
   "outputs": [
    {
     "name": "stdout",
     "output_type": "stream",
     "text": [
      "True\n"
     ]
    }
   ],
   "source": [
    "print(2.3 in {1:100, 2.3:200, 30+40j:300}) # True"
   ]
  },
  {
   "cell_type": "code",
   "execution_count": 49,
   "id": "1b4c5694",
   "metadata": {},
   "outputs": [
    {
     "name": "stdout",
     "output_type": "stream",
     "text": [
      "True\n"
     ]
    }
   ],
   "source": [
    "print(10 in range(20)) #true"
   ]
  },
  {
   "cell_type": "markdown",
   "id": "48124799",
   "metadata": {},
   "source": [
    "# Thank you"
   ]
  },
  {
   "cell_type": "code",
   "execution_count": null,
   "id": "1c25709f",
   "metadata": {},
   "outputs": [],
   "source": []
  },
  {
   "cell_type": "code",
   "execution_count": null,
   "id": "18a4d1fd",
   "metadata": {},
   "outputs": [],
   "source": []
  },
  {
   "cell_type": "code",
   "execution_count": null,
   "id": "48145d64",
   "metadata": {},
   "outputs": [],
   "source": []
  },
  {
   "cell_type": "code",
   "execution_count": null,
   "id": "3dcd43bf",
   "metadata": {},
   "outputs": [],
   "source": []
  },
  {
   "cell_type": "code",
   "execution_count": null,
   "id": "6f6b25db",
   "metadata": {},
   "outputs": [],
   "source": []
  },
  {
   "cell_type": "code",
   "execution_count": null,
   "id": "337a387a",
   "metadata": {},
   "outputs": [],
   "source": []
  },
  {
   "cell_type": "code",
   "execution_count": null,
   "id": "6480855b",
   "metadata": {},
   "outputs": [],
   "source": []
  },
  {
   "cell_type": "code",
   "execution_count": null,
   "id": "37af7e3f",
   "metadata": {},
   "outputs": [],
   "source": []
  },
  {
   "cell_type": "code",
   "execution_count": null,
   "id": "41274086",
   "metadata": {},
   "outputs": [],
   "source": []
  },
  {
   "cell_type": "code",
   "execution_count": null,
   "id": "45750840",
   "metadata": {},
   "outputs": [],
   "source": []
  },
  {
   "cell_type": "code",
   "execution_count": null,
   "id": "3539047c",
   "metadata": {},
   "outputs": [],
   "source": []
  },
  {
   "cell_type": "code",
   "execution_count": null,
   "id": "72167a53",
   "metadata": {},
   "outputs": [],
   "source": []
  },
  {
   "cell_type": "code",
   "execution_count": null,
   "id": "6effa221",
   "metadata": {},
   "outputs": [],
   "source": []
  }
 ],
 "metadata": {
  "kernelspec": {
   "display_name": "Python 3 (ipykernel)",
   "language": "python",
   "name": "python3"
  },
  "language_info": {
   "codemirror_mode": {
    "name": "ipython",
    "version": 3
   },
   "file_extension": ".py",
   "mimetype": "text/x-python",
   "name": "python",
   "nbconvert_exporter": "python",
   "pygments_lexer": "ipython3",
   "version": "3.9.13"
  }
 },
 "nbformat": 4,
 "nbformat_minor": 5
}
