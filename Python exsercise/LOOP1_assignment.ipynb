{
 "cells": [
  {
   "cell_type": "markdown",
   "id": "68c3aec5",
   "metadata": {},
   "source": [
    "# Assignment_Strings"
   ]
  },
  {
   "cell_type": "markdown",
   "id": "cea84026",
   "metadata": {},
   "source": [
    "## Abhilash Gajbhiye ( contact to : abhi.gajbhiye94055@gmail.com or 7218287098 )¶¶"
   ]
  },
  {
   "cell_type": "markdown",
   "id": "5dcd0627",
   "metadata": {},
   "source": [
    "## Batch - LB_DSC_23rd December_WKDY_EN_2022"
   ]
  },
  {
   "cell_type": "code",
   "execution_count": 4,
   "id": "8d1579b3",
   "metadata": {},
   "outputs": [
    {
     "name": "stdout",
     "output_type": "stream",
     "text": [
      "Enter the number between 0 to 9 :54\n",
      "The number you entered is out of range(0-9)\n"
     ]
    }
   ],
   "source": [
    "# Q. W. A P. which takes one number from 0 to 9 from the user and prints\n",
    "# it in the word. And if the word is not from 0 to 9 then\n",
    "# it should print that number is outside of the range and program should\n",
    "# exit.\n",
    "# For exapmple:-\n",
    "# input = 1\n",
    "# output = one\n",
    "\n",
    "num= eval(input('Enter the number between 0 to 9 :'))\n",
    "if num == 0:\n",
    "    print('Zero')\n",
    "    \n",
    "elif num == 1:\n",
    "    print('One')\n",
    "    \n",
    "elif num == 2:\n",
    "    print('Two')\n",
    "    \n",
    "elif num == 3:\n",
    "    print('Three')\n",
    "\n",
    "elif num == 4:\n",
    "    print('Four')\n",
    "    \n",
    "elif num == 5:\n",
    "    print('Five')\n",
    "    \n",
    "elif num == 6:\n",
    "    print('Six')\n",
    "\n",
    "elif num == 7:\n",
    "    print('Seven')\n",
    "    \n",
    "elif num == 8:\n",
    "    print('Eight')\n",
    "    \n",
    "elif num == 9:\n",
    "    print('Nine')\n",
    "else:\n",
    "    print('The number you entered is out of range(0-9)')\n",
    "    \n",
    "    "
   ]
  },
  {
   "cell_type": "code",
   "execution_count": null,
   "id": "3caa1629",
   "metadata": {},
   "outputs": [],
   "source": []
  },
  {
   "cell_type": "code",
   "execution_count": 4,
   "id": "8b42ce04",
   "metadata": {},
   "outputs": [
    {
     "name": "stdout",
     "output_type": "stream",
     "text": [
      "Enter first number: 5\n",
      "Enter second number: 8\n",
      "Please select any one operation from below:-\n",
      "* To add enter 1\n",
      "* to subtract enter 2\n",
      "* To multiply enter 3\n",
      "* To divide enter 4\n",
      "* To divide and find quotient enter 5\n",
      "* To divide and find remainder enter 6\n",
      "* To divide and find num1 to the power of num2 enter 7\n",
      "* To Come out of the program enter 8  \n",
      "4\n",
      "5 / 8 = 0.625\n"
     ]
    }
   ],
   "source": [
    "# Q. W. A P. to implement calculator but the operation to be done and two\n",
    "# numbers will be taken as input from user:-\n",
    "# Operation console should show below:-\n",
    "# Please select any one operation from below:-\n",
    "# * To add enter 1\n",
    "# * to subtract enter 2\n",
    "# * To multiply enter 3\n",
    "# * To divide enter 4\n",
    "# * To divide and find quotient enter 5\n",
    "# * To divide and find remainder enter 6\n",
    "# * To divide and find num1 to the power of num2 enter 7\n",
    "# * To Come out of the program enter 8\n",
    "\n",
    "\n",
    "num1= eval(input('Enter first number: '))\n",
    "num2= eval(input('Enter second number: '))\n",
    "op = eval (input( '''Please select any one operation from below:-\n",
    "* To add enter 1\n",
    "* to subtract enter 2\n",
    "* To multiply enter 3\n",
    "* To divide enter 4\n",
    "* To divide and find quotient enter 5\n",
    "* To divide and find remainder enter 6\n",
    "* To divide and find num1 to the power of num2 enter 7\n",
    "* To Come out of the program enter 8  \\n'''\n",
    "))\n",
    "\n",
    "if op ==1:\n",
    "    print(num1,'+',num2,'=',num1+num2)\n",
    "elif op ==2:\n",
    "    print(num1,'-',num2,'=',num1-num2)\n",
    "elif op== 3:\n",
    "    print(num1,'*',num2,'=',num1*num2)\n",
    "\n",
    "elif op== 4:\n",
    "    if num2==0:\n",
    "        print('num2 can not be zero')\n",
    "    else:\n",
    "        print(num1,'/',num2,'=',num1/num2)\n",
    "    \n",
    "elif op== 5:\n",
    "    print(num1,'//',num2,'=',num1//num2)\n",
    "elif op== 6:\n",
    "    print(num1,'%',num2,'=',num1%num2)\n",
    "elif op== 7:\n",
    "    print(num1,'**',num2,'=',num**num2)\n",
    "elif op== 8:\n",
    "    pass\n",
    "\n",
    "else :\n",
    "    print('enter the right operetor key(1-8)')\n",
    "\n"
   ]
  },
  {
   "cell_type": "code",
   "execution_count": null,
   "id": "8a0788ed",
   "metadata": {},
   "outputs": [],
   "source": []
  },
  {
   "cell_type": "code",
   "execution_count": 11,
   "id": "478a7208",
   "metadata": {},
   "outputs": [
    {
     "name": "stdout",
     "output_type": "stream",
     "text": [
      "please enter the year yyyy : 1214\n",
      "1214  is not a leap year\n"
     ]
    }
   ],
   "source": [
    "# Q. W A P to check whether a year entered by user is an leap year or not?\n",
    "# Check with below input:-\n",
    "# leap year:- 2012, 1968, 2004, 1200, 1600,2400\n",
    "# Non-lear year:- 1971, 2006, 1700,1800,1900\n",
    "\n",
    "year = eval(input('please enter the year yyyy : '))\n",
    "if year%4==0 and year%400==0:\n",
    "    print(year, \" is a leap year\")\n",
    "else:\n",
    "    print( year , \" is not a leap year\")"
   ]
  },
  {
   "cell_type": "code",
   "execution_count": null,
   "id": "43cc587f",
   "metadata": {},
   "outputs": [],
   "source": []
  },
  {
   "cell_type": "code",
   "execution_count": 3,
   "id": "c4834094",
   "metadata": {},
   "outputs": [
    {
     "name": "stdout",
     "output_type": "stream",
     "text": [
      "Enter the number: 4\n",
      "4 is number is even number\n"
     ]
    }
   ],
   "source": [
    "# Q. W A P which takes one number from the user and checks whether it is\n",
    "# an even or odd number?, If it even then prints number is\n",
    "# even number else prints that number is odd number.\n",
    "\n",
    "num= eval(input('Enter the number: '))\n",
    "if num%2==0:\n",
    "    print(num,'is is even number')\n",
    "else:\n",
    "     print(num, \"is  is odd number\")"
   ]
  },
  {
   "cell_type": "code",
   "execution_count": 6,
   "id": "e6f7409c",
   "metadata": {},
   "outputs": [
    {
     "name": "stdout",
     "output_type": "stream",
     "text": [
      "Enter the number: 4\n",
      "Enter the number: 4\n",
      "4  is equal to  4\n"
     ]
    }
   ],
   "source": [
    "# Q. W A P which takes two numbers from the user and prints below output:-\n",
    "# 1. num1 is greater than num2 if num1 is greater than num2\n",
    "# 2. num1 is smaller than num2 if num1 is smaller than num2\n",
    "# 3. num1 is equal to num2 if num1 and num2 are equal\n",
    "# Note:- 1. Do this problem using if - else\n",
    "\n",
    "num1 =eval(input('Enter the number: '))\n",
    "num2 =eval(input('Enter the number: '))\n",
    "\n",
    "if num1> num2:\n",
    "    print(num1,' is greater than ',num2)\n",
    "    \n",
    "if num1< num2:\n",
    "    print(num1,' is smaller than ',num2)\n",
    "else:\n",
    "    print(num1, \" is equal to \", num2)"
   ]
  },
  {
   "cell_type": "code",
   "execution_count": 14,
   "id": "79c16a56",
   "metadata": {},
   "outputs": [
    {
     "name": "stdout",
     "output_type": "stream",
     "text": [
      "Enter the number: 4\n",
      "Enter the number: 5\n",
      "(4, ' is smaller than ', 5)\n"
     ]
    }
   ],
   "source": [
    "# 2. Do this using ternary operator\n",
    "\n",
    "num1 =a =eval(input('Enter the number: '))\n",
    "num2 = b= eval(input('Enter the number: '))\n",
    "\n",
    "\n",
    "print ((num1, \" is equal to \" ,num2) if a == b else (num1,' is greater than ',num2)\n",
    "        if a > b else (num1,' is smaller than ',num2))"
   ]
  },
  {
   "cell_type": "code",
   "execution_count": 26,
   "id": "9a526777",
   "metadata": {},
   "outputs": [
    {
     "name": "stdout",
     "output_type": "stream",
     "text": [
      "Enter the number: 12\n",
      "Enter the number: 56\n",
      "Enter the number: 98\n",
      "98 is greater than 12 and 56\n"
     ]
    }
   ],
   "source": [
    "# Q. W A P which takes three numbers from the user and prints below\n",
    "# output:-\n",
    "# 1. num1 is greater than num2 and num3 if num1 is greater than num2\n",
    "# and num3\n",
    "# 2. num2 is greater than num1 and num3 if num2 is greater than num1\n",
    "# and num3\n",
    "\n",
    "# 3. num3 is greater than num1 and num2 if num3 is greater than num1\n",
    "# and num2\n",
    "# Note:- 1. Do this problem using if - elif - else\n",
    "# 2. Do this using ternary operator\n",
    "\n",
    "#1 using if - elif - else\n",
    "\n",
    "num1 =eval(input('Enter the number: '))\n",
    "num2 =eval(input('Enter the number: '))\n",
    "num3 =eval(input('Enter the number: '))\n",
    " \n",
    "if num1> num2 and num1>num3:\n",
    "    print(f'{num1} is greater than {num2} and {num3}')\n",
    "elif num2>num1 and num2 >num3:\n",
    "    print(f'{num2} is greater than {num1} and {num3}')\n",
    "elif num3>num1 and num3> num2:\n",
    "    print(f'{num3} is greater than {num1} and {num2}')\n",
    "    \n",
    "\n",
    "    \n"
   ]
  },
  {
   "cell_type": "code",
   "execution_count": 46,
   "id": "c2b311c6",
   "metadata": {},
   "outputs": [
    {
     "name": "stdout",
     "output_type": "stream",
     "text": [
      "55\n"
     ]
    }
   ],
   "source": [
    "# Q. Write a Python program to find the length of the my_str using loop:-\n",
    "# Input:- 'Write a Python program to find the length of the my_str'\n",
    "# Output:- 55\n",
    "\n",
    "\n",
    "str=  'Write a Python program to find the length of the my_str'\n",
    "len =0\n",
    "for i in str:\n",
    "    len+=1\n",
    "print(len)\n",
    "        "
   ]
  },
  {
   "cell_type": "code",
   "execution_count": 71,
   "id": "dea9d6f5",
   "metadata": {},
   "outputs": [
    {
     "name": "stdout",
     "output_type": "stream",
     "text": [
      "9\n"
     ]
    }
   ],
   "source": [
    "# Q. Write a Python program to find the total number of times letter 'p'\n",
    "# is appeared in the below string using loop:-\n",
    "# Input:- 'peter piper picked a peck of pickled peppers.\\n'\n",
    "# Output:- 9\n",
    "\n",
    "\n",
    "\n",
    "count = 0\n",
    "\n",
    "my_string = 'peter piper picked a peck of pickled peppers.\\n'\n",
    "my_char = \"p\"\n",
    "\n",
    "for i in my_string:\n",
    "    if i == my_char:\n",
    "        count += 1\n",
    "\n",
    "print(count)"
   ]
  },
  {
   "cell_type": "code",
   "execution_count": 2,
   "id": "fd26c121",
   "metadata": {},
   "outputs": [
    {
     "name": "stdout",
     "output_type": "stream",
     "text": [
      "0\n",
      "6\n",
      "8\n",
      "12\n",
      "21\n",
      "29\n",
      "37\n",
      "39\n",
      "40\n"
     ]
    }
   ],
   "source": [
    "# Q. Write a Python Program, to print all the indexes of all occurences of\n",
    "# letter 'p' appeared in the string using loop:-\n",
    "# Input:- 'peter piper picked a peck of pickled peppers.'\n",
    "# Output:-\n",
    "# 0\n",
    "# 6\n",
    "# 8\n",
    "# 12\n",
    "# 21\n",
    "# 29\n",
    "# 37\n",
    "# 39\n",
    "# 40\n",
    "my_string = 'peter piper picked a peck of pickled peppers.\\n'\n",
    "\n",
    "for i in range(len(my_string)):\n",
    "    if my_string[i]=='p':\n",
    "        print(i)\n"
   ]
  },
  {
   "cell_type": "code",
   "execution_count": null,
   "id": "91c618ac",
   "metadata": {},
   "outputs": [],
   "source": []
  },
  {
   "cell_type": "code",
   "execution_count": 27,
   "id": "75971cc6",
   "metadata": {},
   "outputs": [
    {
     "name": "stdout",
     "output_type": "stream",
     "text": [
      "['peter', 'piper', 'picked', 'a', 'peck', 'of', 'pickled', 'peppers.']\n"
     ]
    }
   ],
   "source": [
    "# Q. Write a python program to find below output using loop:-\n",
    "# Input:- 'peter piper picked a peck of pickled peppers.'\n",
    "# Output:- ['peter', 'piper', 'picked', 'a', 'peck', 'of', 'pickled',\n",
    "# 'peppers']\n",
    "    \n",
    "    \n",
    "str1='peter piper picked a peck of pickled peppers.'\n",
    "for i in str1:\n",
    "    if i== ' ':\n",
    "        x= str1.split(i)\n",
    "\n",
    "print(x)\n",
    "    "
   ]
  },
  {
   "cell_type": "code",
   "execution_count": null,
   "id": "c12e14db",
   "metadata": {},
   "outputs": [],
   "source": []
  },
  {
   "cell_type": "code",
   "execution_count": 28,
   "id": "fc5ddfb7",
   "metadata": {},
   "outputs": [
    {
     "name": "stdout",
     "output_type": "stream",
     "text": [
      "peppers. pickled of peck a picked piper peter\n"
     ]
    }
   ],
   "source": [
    "# Q. Write a python program to find below output using loop:-\n",
    "# Input:- 'peter piper picked a peck of pickled peppers.'\n",
    "# Output:- 'peppers pickled of peck a picked piper peter'\n",
    "\n",
    "str1='peter piper picked a peck of pickled peppers.'\n",
    "\n",
    "for i in str1:\n",
    "    if i== ' ':\n",
    "        x= str1.split(i)\n",
    "x.reverse()\n",
    "print(' '.join(x))\n"
   ]
  },
  {
   "cell_type": "code",
   "execution_count": null,
   "id": "b2af3e0b",
   "metadata": {},
   "outputs": [],
   "source": []
  },
  {
   "cell_type": "code",
   "execution_count": 47,
   "id": "455739c2",
   "metadata": {
    "scrolled": true
   },
   "outputs": [
    {
     "name": "stdout",
     "output_type": "stream",
     "text": [
      ".sreppep delkcip fo kcep a dekcip repip retep\n"
     ]
    }
   ],
   "source": [
    "# Q. Write a python program to find below output using loop:-\n",
    "# Input:- 'peter piper picked a peck of pickled peppers.'\n",
    "# Output:- '.sreppep delkcip fo kcep a dekcip repip retep'\n",
    "\n",
    "\n",
    "str1='peter piper picked a peck of pickled peppers.'\n",
    "for i in str1:\n",
    "    if i== ' ':\n",
    "        x= str1.split(i)\n",
    "x.reverse()\n",
    "y=(' '.join(x))\n",
    "# print(x)\n",
    "s=[]\n",
    "for i in x:\n",
    "    s.append(i[::-1])\n",
    "\n",
    "d= ' '.join(s)\n",
    "print(d)"
   ]
  },
  {
   "cell_type": "code",
   "execution_count": null,
   "id": "09a932e1",
   "metadata": {},
   "outputs": [],
   "source": []
  },
  {
   "cell_type": "code",
   "execution_count": 53,
   "id": "3f656ca8",
   "metadata": {},
   "outputs": [
    {
     "name": "stdout",
     "output_type": "stream",
     "text": [
      "retep repip dekcip a kcep fo delkcip .sreppep\n"
     ]
    }
   ],
   "source": [
    "# Q. Write a python program to find below output using loop:-\n",
    "# Input:- 'peter piper picked a peck of pickled peppers.'\n",
    "# Output:- 'retep repip dekcip a kcep fo delkcip sreppep'\n",
    "    \n",
    "str1='peter piper picked a peck of pickled peppers.'\n",
    "for i in str1:\n",
    "    if i== ' ':\n",
    "        x= str1.split(i)\n",
    "\n",
    "s=[]\n",
    "for i in x:\n",
    "    s.append(i[::-1])\n",
    "\n",
    "d= ' '.join(s)\n",
    "print(d)\n",
    "\n",
    "    \n",
    "    \n",
    "    "
   ]
  },
  {
   "cell_type": "code",
   "execution_count": null,
   "id": "68f2956a",
   "metadata": {},
   "outputs": [],
   "source": []
  },
  {
   "cell_type": "code",
   "execution_count": 20,
   "id": "a80dd2a4",
   "metadata": {},
   "outputs": [
    {
     "name": "stdout",
     "output_type": "stream",
     "text": [
      "Peter Piper Picked A Peck Of Pickled Peppers.\n"
     ]
    }
   ],
   "source": [
    "# Q. Write a python program to find below output using loop:-\n",
    "# Input:- 'peter piper picked a peck of pickled peppers.'\n",
    "# Output:- 'Peter Piper Picked A Peck Of Pickled Peppers'\n",
    "\n",
    "str1='peter piper picked a peck of pickled peppers.'\n",
    "for i in str1:\n",
    "    if i==\" \":\n",
    "        x= str1.split(i)\n",
    "# print(x)  \n",
    "w=[]\n",
    "for i in x:\n",
    "    w.append((i.capitalize()))\n",
    "\n",
    "print(' '.join(w))"
   ]
  },
  {
   "cell_type": "code",
   "execution_count": null,
   "id": "c8d4febc",
   "metadata": {},
   "outputs": [],
   "source": []
  },
  {
   "cell_type": "code",
   "execution_count": 1,
   "id": "abc32fcf",
   "metadata": {},
   "outputs": [
    {
     "name": "stdout",
     "output_type": "stream",
     "text": [
      "peter piper picked a peck of pickled peppers.\n"
     ]
    }
   ],
   "source": [
    "# Q. Write a python program to find below output using loop:-\n",
    "# Input:- 'Peter Piper Picked A Peck Of Pickled Peppers.'\n",
    "# Output:- 'Peter piper picked a peck of pickled peppers'\n",
    "    \n",
    "str1= \"Peter Piper Picked A Peck Of Pickled Peppers.\"\n",
    "for i in str1:\n",
    "    if i==\" \":\n",
    "        x= str1.split(i)\n",
    "# print(x)  \n",
    "w=[]\n",
    "for i in x:\n",
    "    w.append((i.lower()))\n",
    "\n",
    "print(' '.join(w))"
   ]
  },
  {
   "cell_type": "code",
   "execution_count": null,
   "id": "7eaa9971",
   "metadata": {},
   "outputs": [],
   "source": []
  },
  {
   "cell_type": "code",
   "execution_count": 12,
   "id": "8a90d4fc",
   "metadata": {},
   "outputs": [
    {
     "name": "stdout",
     "output_type": "stream",
     "text": [
      "29\n"
     ]
    }
   ],
   "source": [
    "# Q. Write a python program to implement index method using loop. If\n",
    "# sub_str is found in my_str then it will print the index\n",
    "# of first occurrence of first character of matching string in my_str:-\n",
    "# Input:- my_str = 'Peter Piper Picked A Peck Of Pickled Peppers.',\n",
    "# sub_str = 'Pickl'\n",
    "# Output:- 29\n",
    "my_str = 'Peter Piper Picked A Peck Of Pickled Peppers.'    \n",
    "for i in range(len(my_str)):\n",
    "    if my_str.startswith('Pickl',i):\n",
    "        print(i)"
   ]
  },
  {
   "cell_type": "code",
   "execution_count": 1,
   "id": "79807714",
   "metadata": {},
   "outputs": [
    {
     "name": "stdout",
     "output_type": "stream",
     "text": [
      "Peter Piper Picked A Peck Of Pickled Peppers.\n"
     ]
    }
   ],
   "source": [
    "# Q. Write a python program to implement replace method using loop. If\n",
    "# sub_str is found in my_str then it will replace the first\n",
    "# occurrence of sub_str with new_str else it will will print sub_str not\n",
    "# found:-\n",
    "# Input:- my_str = 'Peter Piper Picked A Peck Of Pickled Peppers.',\n",
    "# sub_str = 'Peck', new_str = 'Pack'\n",
    "# Output:- 'Peter Piper Picked A Pack Of Pickled Peppers.'\n",
    "\n",
    "my_str = 'Peter Piper Picked A Peck Of Pickled Peppers.'\n",
    "new_str=\"\"\n",
    "for i in my_str:\n",
    "    if i == \"Peck\":\n",
    "        new_str+=\"pack\"\n",
    "    else:\n",
    "        new_str+=i\n",
    "print(new_str)"
   ]
  },
  {
   "cell_type": "code",
   "execution_count": 4,
   "id": "da36c087",
   "metadata": {},
   "outputs": [],
   "source": [
    "\n",
    "my_str = 'Peter Piper Picked A Peck Of Pickled Peppers.'\n",
    "\n",
    "for i  in my_str:\n",
    "    if i=='Peck':\n",
    "        print(my_str.replace(i,'Pack'))\n"
   ]
  },
  {
   "cell_type": "code",
   "execution_count": null,
   "id": "d84d861f",
   "metadata": {},
   "outputs": [],
   "source": []
  },
  {
   "cell_type": "code",
   "execution_count": 30,
   "id": "853a58e3",
   "metadata": {},
   "outputs": [],
   "source": [
    "# Q. Write a python program to find below output (implements rjust and\n",
    "# ljust) using loop:-\n",
    "# Input:- 'Peter Piper Picked A Peck Of Pickled Peppers.', sub_str =\n",
    "# 'Peck',\n",
    "# Output:- '*********************Peck********************'\n",
    "    \n",
    "a= 'Peter Piper Picked A Peck Of Pickled Peppers.'\n",
    "b= 'Peck'\n"
   ]
  },
  {
   "cell_type": "code",
   "execution_count": null,
   "id": "81377a7d",
   "metadata": {},
   "outputs": [],
   "source": []
  },
  {
   "cell_type": "code",
   "execution_count": null,
   "id": "0ecb4cf1",
   "metadata": {},
   "outputs": [],
   "source": []
  },
  {
   "cell_type": "code",
   "execution_count": 37,
   "id": "30271631",
   "metadata": {
    "scrolled": true
   },
   "outputs": [],
   "source": [
    "# Q. Write a python program to find below output using loop:-\n",
    "# Input:- 'This is Python class', sep = ' is',\n",
    "# Output:- ['This', 'is', 'Python class']"
   ]
  },
  {
   "cell_type": "code",
   "execution_count": 58,
   "id": "0fa0e305",
   "metadata": {},
   "outputs": [
    {
     "data": {
      "text/plain": [
       "['This', ' Python class']"
      ]
     },
     "execution_count": 58,
     "metadata": {},
     "output_type": "execute_result"
    }
   ],
   "source": [
    "a= 'This is Python class'\n",
    "for i in a:\n",
    "    s =a.split(' is')\n",
    "s"
   ]
  },
  {
   "cell_type": "code",
   "execution_count": null,
   "id": "1b662336",
   "metadata": {},
   "outputs": [],
   "source": []
  },
  {
   "cell_type": "markdown",
   "id": "0b3a330c",
   "metadata": {},
   "source": [
    "# THANK  YOU"
   ]
  },
  {
   "cell_type": "code",
   "execution_count": null,
   "id": "a9b34b9b",
   "metadata": {},
   "outputs": [],
   "source": []
  }
 ],
 "metadata": {
  "kernelspec": {
   "display_name": "Python 3 (ipykernel)",
   "language": "python",
   "name": "python3"
  },
  "language_info": {
   "codemirror_mode": {
    "name": "ipython",
    "version": 3
   },
   "file_extension": ".py",
   "mimetype": "text/x-python",
   "name": "python",
   "nbconvert_exporter": "python",
   "pygments_lexer": "ipython3",
   "version": "3.9.13"
  }
 },
 "nbformat": 4,
 "nbformat_minor": 5
}
