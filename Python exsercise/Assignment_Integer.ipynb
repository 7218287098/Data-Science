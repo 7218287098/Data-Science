{
 "cells": [
  {
   "cell_type": "markdown",
   "id": "6f95fe9e",
   "metadata": {},
   "source": [
    "# Assignment:-"
   ]
  },
  {
   "cell_type": "markdown",
   "id": "c0bf07ba",
   "metadata": {},
   "source": [
    "# Topic:- Integers\n",
    "            "
   ]
  },
  {
   "cell_type": "markdown",
   "id": "86a8d391",
   "metadata": {},
   "source": [
    "### Performered by : Abhilash Gajbhiye ( contact to : abhi.gajbhiye94055@gmail.com or 7218287098  )"
   ]
  },
  {
   "cell_type": "markdown",
   "id": "6c50a532",
   "metadata": {},
   "source": [
    "#### Batch - LB_DSC_23rd December_WKDY_EN_2022"
   ]
  },
  {
   "cell_type": "code",
   "execution_count": 28,
   "id": "630af69f",
   "metadata": {},
   "outputs": [
    {
     "name": "stdout",
     "output_type": "stream",
     "text": [
      "<class 'int'> 3202311258704\n"
     ]
    }
   ],
   "source": [
    "#Q1.Declare an int value and store it in a variable.Check the type and print the id of the same.\n",
    "a=12\n",
    "print(type(a),id(a))"
   ]
  },
  {
   "cell_type": "code",
   "execution_count": 29,
   "id": "e8f016cd",
   "metadata": {},
   "outputs": [
    {
     "name": "stdout",
     "output_type": "stream",
     "text": [
      "3202311258640\n",
      "3202311258640\n",
      "(integers between -5 to 256 are applicable for memmory reusability  feature in python\n",
      "so that the above both variables with same value(10) stored in same memmory location.)\n"
     ]
    }
   ],
   "source": [
    "#Q2.Take one int value between 0 - 256.\n",
    "#Assign it to two different variables.\n",
    "#Check the id of both the variables. It should come the same. Check why?\n",
    "\n",
    "##solution\n",
    "a=10\n",
    "b=10\n",
    "print(id(a))\n",
    "print(id(b))\n",
    "(a) is (b)\n",
    "print('''(integers between -5 to 256 are applicable for memmory reusability  feature in python\n",
    "so that the above both variables with same value(10) stored in same memmory location.)''')\n"
   ]
  },
  {
   "cell_type": "code",
   "execution_count": 30,
   "id": "2d729001",
   "metadata": {},
   "outputs": [
    {
     "name": "stdout",
     "output_type": "stream",
     "text": [
      "3202382447184\n",
      "3202382447024\n",
      "(Only integers between -5 to 256 are applicable for memmory reusability  feature in python\n",
      "so that the above both variables with same value stored in same memmory location. Here int 300 is not between the given range. \n",
      "so that they get stored in two differmt memmory locations)\n"
     ]
    }
   ],
   "source": [
    "#Q3. Take one int value either less than -5 or greater than 256.\n",
    "#Assign it to two different variables.\n",
    "#Check the id of both the variables. It should come different.Check why?\n",
    "\n",
    "a=300\n",
    "b=300\n",
    "print(id(a))\n",
    "print(id(b))\n",
    "a is b\n",
    "print('''(Only integers between -5 to 256 are applicable for memmory reusability  feature in python\n",
    "so that the above both variables with same value stored in same memmory location. Here int 300 is not between the given range. \n",
    "so that they get stored in two differmt memmory locations)''')\n",
    "\n",
    "\n",
    "\n",
    "\n"
   ]
  },
  {
   "cell_type": "code",
   "execution_count": 31,
   "id": "1ecb85d2",
   "metadata": {},
   "outputs": [
    {
     "name": "stdout",
     "output_type": "stream",
     "text": [
      "35\n",
      "-11\n",
      "276\n",
      "0.5217391304347826\n",
      "12\n",
      "0\n",
      "6624737266949237011120128\n"
     ]
    }
   ],
   "source": [
    "#Q4. Arithmetic Operations on integers\n",
    "#Take two different integer values.\n",
    "#Store them in two different variables.\n",
    "#Do below operations on them:-\n",
    "#Find sum of both numbers\n",
    "#Find difference between them\n",
    "#3Find the product of both numbers.\n",
    "#Find value after dividing first num with second number\n",
    "#Find the remainder after dividing first number with second number\n",
    "#Find the quotient after dividing first number with second number\n",
    "#Find the result of the first num to the power of the second number.\n",
    "\n",
    "#solution\n",
    "a=12\n",
    "b=23\n",
    "print(a+b)  #addition\n",
    "print(a-b)  #substraction\n",
    "print(a*b)  #product\n",
    "print(a/b)  #first no. divided by second no.\n",
    "print(a%b)  # remainder after devidind first by second no.\n",
    "print(a//b) # quotient\n",
    "print(a**b) #exponetial (first no. to the power of second)\n"
   ]
  },
  {
   "cell_type": "code",
   "execution_count": 32,
   "id": "44da77b1",
   "metadata": {},
   "outputs": [
    {
     "name": "stdout",
     "output_type": "stream",
     "text": [
      "False\n",
      "True\n",
      "False\n",
      "True\n"
     ]
    }
   ],
   "source": [
    "#Q.Comparison Operators on integers\n",
    "#Take two different integer values.\n",
    "#Store them in two different variables.\n",
    "#Do below operations on them:-\n",
    "#Compare se two numbers with below operator:-\n",
    "#Greater than, '>'\n",
    "#Smaller than, '<'\n",
    "#Greater than or equal to, '>='\n",
    "#Less than or equal to, '<='\n",
    "#Observe their output(return type should be boolean)\n",
    "\n",
    "\n",
    "#solution\n",
    "a=10\n",
    "b=20\n",
    "print(a>b) #greater than comparator\n",
    "print(a<b) #less than comparator\n",
    "print(a>=b) #greator than equal to comparator\n",
    "print(a<=b) #less than equals to comparator\n",
    "\n",
    "\n",
    "\n",
    "\n",
    "\n",
    "\n",
    "\n",
    "\n",
    "\n",
    "\n",
    "\n"
   ]
  },
  {
   "cell_type": "code",
   "execution_count": 33,
   "id": "ae22fab0",
   "metadata": {},
   "outputs": [
    {
     "name": "stdout",
     "output_type": "stream",
     "text": [
      "False\n",
      "True\n"
     ]
    }
   ],
   "source": [
    "'''Q.Equality Operator\n",
    "Take two different integer values.\n",
    "Store them in two different variables.\n",
    "Equate them using equality operators (==, !=)\n",
    "Observe the output(return type should be boolean)'''\n",
    "\n",
    "\n",
    "a=20\n",
    "b=40\n",
    "print(a==b)\n",
    "print(a!=b)\n"
   ]
  },
  {
   "cell_type": "code",
   "execution_count": 34,
   "id": "6640a711",
   "metadata": {},
   "outputs": [],
   "source": [
    "#Q.Logical operators\n",
    "#Observe the output of below code\n",
    "\n",
    "#Cross check the output manually\n",
    "#print(10 and 20) "
   ]
  },
  {
   "cell_type": "code",
   "execution_count": 35,
   "id": "c47315c0",
   "metadata": {},
   "outputs": [
    {
     "data": {
      "text/plain": [
       "20"
      ]
     },
     "execution_count": 35,
     "metadata": {},
     "output_type": "execute_result"
    }
   ],
   "source": [
    "\n",
    "#----------------------------------------->Output is 20\n",
    "(10 and 20)"
   ]
  },
  {
   "cell_type": "code",
   "execution_count": 36,
   "id": "8c949e35",
   "metadata": {},
   "outputs": [
    {
     "name": "stdout",
     "output_type": "stream",
     "text": [
      "0\n"
     ]
    }
   ],
   "source": [
    "# print(0 and 20)\n",
    "#----------------------------------------->Output is 0\n",
    "print(0 and 20)"
   ]
  },
  {
   "cell_type": "code",
   "execution_count": 37,
   "id": "0a965a50",
   "metadata": {},
   "outputs": [
    {
     "name": "stdout",
     "output_type": "stream",
     "text": [
      "0\n"
     ]
    }
   ],
   "source": [
    "#print(20 and 0)\n",
    "#----------------------------------------->Output is 0\n",
    "print(20 and 0)"
   ]
  },
  {
   "cell_type": "code",
   "execution_count": 38,
   "id": "d4b64ab2",
   "metadata": {},
   "outputs": [
    {
     "name": "stdout",
     "output_type": "stream",
     "text": [
      "0\n"
     ]
    }
   ],
   "source": [
    "#print(0 and 0)\n",
    "#----------------------------------------->Output is 0\n",
    "print(0 and 0)"
   ]
  },
  {
   "cell_type": "code",
   "execution_count": 39,
   "id": "37a27b22",
   "metadata": {},
   "outputs": [
    {
     "name": "stdout",
     "output_type": "stream",
     "text": [
      "10\n"
     ]
    }
   ],
   "source": [
    "#print(10 or 20)\n",
    "#----------------------------------------->Output is 10\n",
    "print(10 or 20)"
   ]
  },
  {
   "cell_type": "code",
   "execution_count": 40,
   "id": "5e0dd31f",
   "metadata": {},
   "outputs": [
    {
     "name": "stdout",
     "output_type": "stream",
     "text": [
      "20\n"
     ]
    }
   ],
   "source": [
    "#print(0 or 20)\n",
    "#----------------------------------------->Output is 20\n",
    "print(0 or 20)"
   ]
  },
  {
   "cell_type": "code",
   "execution_count": 41,
   "id": "9762a846",
   "metadata": {},
   "outputs": [
    {
     "name": "stdout",
     "output_type": "stream",
     "text": [
      "20\n"
     ]
    }
   ],
   "source": [
    "#print(20 or 0)\n",
    "#----------------------------------------->Output is 20\n",
    "print(20 or 0)"
   ]
  },
  {
   "cell_type": "code",
   "execution_count": 42,
   "id": "b729fbb5",
   "metadata": {},
   "outputs": [
    {
     "name": "stdout",
     "output_type": "stream",
     "text": [
      "0\n"
     ]
    }
   ],
   "source": [
    "#print(0 or 0)\n",
    "#----------------------------------------->Output is 0\n",
    "print(0 or 0)"
   ]
  },
  {
   "cell_type": "code",
   "execution_count": 43,
   "id": "492d542e",
   "metadata": {},
   "outputs": [
    {
     "name": "stdout",
     "output_type": "stream",
     "text": [
      "False\n"
     ]
    }
   ],
   "source": [
    "#print(not 10)\n",
    "#----------------------------------------->Output is False\n",
    "print( not 10)"
   ]
  },
  {
   "cell_type": "code",
   "execution_count": 44,
   "id": "ac05dc83",
   "metadata": {},
   "outputs": [
    {
     "name": "stdout",
     "output_type": "stream",
     "text": [
      "True\n"
     ]
    }
   ],
   "source": [
    "#print(not 0)\n",
    "#----------------------------------------->Output is True\n",
    "print(not 0)\n"
   ]
  },
  {
   "cell_type": "code",
   "execution_count": 45,
   "id": "76bfeba3",
   "metadata": {},
   "outputs": [],
   "source": [
    "#Q. Bitwise Operators\n",
    "#Do below operations on the values provided below:-\n",
    "\n",
    "#Cross check the output manually"
   ]
  },
  {
   "cell_type": "code",
   "execution_count": 46,
   "id": "b7f57143",
   "metadata": {},
   "outputs": [
    {
     "name": "stdout",
     "output_type": "stream",
     "text": [
      "0\n"
     ]
    }
   ],
   "source": [
    "#Bitwise and(&) -----------------------------------------> 10, 20\n",
    "#-------> Output is 0\n",
    "\n",
    "print(10 & 20)"
   ]
  },
  {
   "cell_type": "code",
   "execution_count": 47,
   "id": "c4eea46f",
   "metadata": {},
   "outputs": [
    {
     "name": "stdout",
     "output_type": "stream",
     "text": [
      "30\n"
     ]
    }
   ],
   "source": [
    "#Bitwise or(|) -----------------------------------------> 10, 20\n",
    "#-------> Output is 30\n",
    "\n",
    "print(10| 30)"
   ]
  },
  {
   "cell_type": "code",
   "execution_count": 48,
   "id": "3a6289ec",
   "metadata": {},
   "outputs": [
    {
     "name": "stdout",
     "output_type": "stream",
     "text": [
      "30\n"
     ]
    }
   ],
   "source": [
    "#Bitwise(^) -----------------------------------------> 10, 20\n",
    "#-------> Output is 30\n",
    "\n",
    "print(10 ^ 20)\n"
   ]
  },
  {
   "cell_type": "code",
   "execution_count": null,
   "id": "de5becba",
   "metadata": {},
   "outputs": [],
   "source": []
  },
  {
   "cell_type": "code",
   "execution_count": 49,
   "id": "933861dc",
   "metadata": {},
   "outputs": [
    {
     "name": "stdout",
     "output_type": "stream",
     "text": [
      "-11\n"
     ]
    }
   ],
   "source": [
    "#Bitwise negation(~) ------------------------------------> 10\n",
    "#-------> Output is -11\n",
    "\n",
    "print(~ 10)"
   ]
  },
  {
   "cell_type": "code",
   "execution_count": 50,
   "id": "ee7e24f9",
   "metadata": {},
   "outputs": [
    {
     "name": "stdout",
     "output_type": "stream",
     "text": [
      "40\n"
     ]
    }
   ],
   "source": [
    "#Bitwise left shift ------------------------------------> 10,2\n",
    "#-------> Output is 40\n",
    "\n",
    "print(10<<2)"
   ]
  },
  {
   "cell_type": "code",
   "execution_count": 51,
   "id": "b1afa378",
   "metadata": {},
   "outputs": [
    {
     "name": "stdout",
     "output_type": "stream",
     "text": [
      "2\n"
     ]
    }
   ],
   "source": [
    "#Bitwise right shift ------------------------------------> 10,2\n",
    "#-------> Output is 2\n",
    "\n",
    "print(10>>2)"
   ]
  },
  {
   "cell_type": "code",
   "execution_count": 1,
   "id": "6b910573",
   "metadata": {},
   "outputs": [
    {
     "name": "stdout",
     "output_type": "stream",
     "text": [
      "True\n",
      "False\n",
      "False\n",
      "True\n"
     ]
    }
   ],
   "source": [
    "#Q. What is the output of expression inside print statement. Cross check\n",
    "#before running the program.\n",
    "\n",
    "#a = 10\n",
    "#b = 10\n",
    "#print(a is b) #True or False?\n",
    "#print(a is not b) #True or False?\n",
    "#a = 1000\n",
    "#b = 1000\n",
    "#print(a is b) #True or False?\n",
    "#print(a is not b) #True or False?\n",
    "\n",
    "a = 10\n",
    "b = 10\n",
    "print(a is b) #True\n",
    "print(a is not b) #False\n",
    "a = 1000\n",
    "b = 1000\n",
    "print(a is b) #False\n",
    "print(a is not b)#True\n"
   ]
  },
  {
   "cell_type": "code",
   "execution_count": 2,
   "id": "d6445cce",
   "metadata": {},
   "outputs": [
    {
     "name": "stdout",
     "output_type": "stream",
     "text": [
      "20\n"
     ]
    }
   ],
   "source": [
    "#Q. What is the output of expression inside print statement. Cross check\n",
    "#before running the program.\n",
    "#print(10+(10*32)//2**5&20+(~(-10))<<2) #\n",
    "#output will be 20\n",
    "\n",
    "print(10+(10*32)//2**5&20+(~(-10))<<2)"
   ]
  },
  {
   "cell_type": "code",
   "execution_count": null,
   "id": "f5a0efec",
   "metadata": {},
   "outputs": [],
   "source": []
  },
  {
   "cell_type": "code",
   "execution_count": 54,
   "id": "eae1b684",
   "metadata": {},
   "outputs": [
    {
     "name": "stdout",
     "output_type": "stream",
     "text": [
      "True\n",
      "True\n",
      "True\n",
      "True\n",
      "True\n",
      "True\n"
     ]
    }
   ],
   "source": [
    "#Q. Membership operation\n",
    "#in, not in are two membership operators and it returns boolean value\n",
    "#print('2' in 'Python2.7.8')\n",
    "#print(10 in [10,10.20,10+20j,'Python'])\n",
    "#print(10 in (10,10.20,10+20j,'Python'))\n",
    "#print(2 in {1,2,3})\n",
    "#print(3 in {1:100, 2:200, 3:300})\n",
    "#print(10 in range(20))\n",
    "\n",
    "\n",
    "\n",
    "\n",
    "print('2' in 'Python2.7.8')\n",
    "print(10 in [10,10.20,10+20j,'Python'])\n",
    "print(10 in (10,10.20,10+20j,'Python'))\n",
    "print(2 in {1,2,3})\n",
    "print(3 in {1:100, 2:200, 3:300})\n",
    "print(10 in range(20))"
   ]
  },
  {
   "cell_type": "code",
   "execution_count": 55,
   "id": "aad9dc2a",
   "metadata": {},
   "outputs": [
    {
     "name": "stdout",
     "output_type": "stream",
     "text": [
      "0b10011010010100\n",
      "0o23224\n",
      "0x2694\n"
     ]
    }
   ],
   "source": [
    "#Q. An integer can be represented in binary, octal or hexadecimal form.\n",
    "#Declare one binary, one octal and one hexadecimal value and store them\n",
    "#in three different variables.\n",
    "#Convert 9876 to its binary, octal and hexadecimal equivalent and print\n",
    "#their corresponding value.\n",
    "\n",
    "\n",
    "a= 0b010011100111000001 #binary\n",
    "b= 0o5421 #octal\n",
    "c=0xea #hexadecimal\n",
    "print(bin(9876))\n",
    "print(oct(9876))\n",
    "print(hex(9876))"
   ]
  },
  {
   "cell_type": "code",
   "execution_count": null,
   "id": "f63a80cd",
   "metadata": {},
   "outputs": [],
   "source": []
  },
  {
   "cell_type": "code",
   "execution_count": 56,
   "id": "3d80c477",
   "metadata": {},
   "outputs": [
    {
     "name": "stdout",
     "output_type": "stream",
     "text": [
      "80\n",
      "3870\n",
      "64222\n",
      "0b1010000\n",
      "0o7436\n",
      "0xfade\n",
      "0b1010000\n",
      "0b1111101011011110\n",
      "0o175336\n",
      "0o7436\n",
      "0x50\n",
      "0xfade\n"
     ]
    }
   ],
   "source": [
    "#Q. What will be the output of following:-\n",
    "a = 0b1010000\n",
    "print(a)\n",
    "b = 0o7436\n",
    "print(b)\n",
    "c = 0xfade\n",
    "print(c)\n",
    "print(bin(80))\n",
    "\n",
    "print(oct(3870))\n",
    "print(hex(64222))\n",
    "print(bin(0b1010000))\n",
    "print(bin(0xfade))\n",
    "print(oct(0xfade))\n",
    "print(oct(0o7436))\n",
    "print(hex(0b1010000))\n",
    "print(hex(0xfade))"
   ]
  },
  {
   "cell_type": "markdown",
   "id": "889b0afa",
   "metadata": {},
   "source": [
    "# THANK YOU"
   ]
  },
  {
   "cell_type": "code",
   "execution_count": null,
   "id": "d4f6f9c8",
   "metadata": {},
   "outputs": [],
   "source": []
  },
  {
   "cell_type": "code",
   "execution_count": null,
   "id": "a16c81d2",
   "metadata": {},
   "outputs": [],
   "source": []
  }
 ],
 "metadata": {
  "kernelspec": {
   "display_name": "Python 3 (ipykernel)",
   "language": "python",
   "name": "python3"
  },
  "language_info": {
   "codemirror_mode": {
    "name": "ipython",
    "version": 3
   },
   "file_extension": ".py",
   "mimetype": "text/x-python",
   "name": "python",
   "nbconvert_exporter": "python",
   "pygments_lexer": "ipython3",
   "version": "3.9.13"
  },
  "vscode": {
   "interpreter": {
    "hash": "84fd2673a0f847bf80637898000f9b4175f2ffd476d5f31b41a838c2acdb5b76"
   }
  }
 },
 "nbformat": 4,
 "nbformat_minor": 5
}
